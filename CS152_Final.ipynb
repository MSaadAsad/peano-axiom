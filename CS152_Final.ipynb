{
  "cells": [
    {
      "cell_type": "markdown",
      "source": [
        "# **NOTE BEFORE RUNNING**\n",
        "It is critical to run the KB code cell once, because Prolog statements persist. Every time we re-add the same rules to prolog, which will cause long running times or cause stack overflow error. If this error occurs we can restart the environment. To prevent this error from occuring and if one wishes to run the code cells again, we can simplt restart the environment too."
      ],
      "metadata": {
        "id": "ol-L_MU98ZG8"
      }
    },
    {
      "cell_type": "code",
      "execution_count": 19,
      "metadata": {
        "colab": {
          "base_uri": "https://localhost:8080/"
        },
        "id": "zePWLELcAQOB",
        "outputId": "d7864715-0174-4d14-988d-b6fbecd53c8c"
      },
      "outputs": [
        {
          "output_type": "stream",
          "name": "stdout",
          "text": [
            "Reading package lists... Done\n",
            "Building dependency tree... Done\n",
            "Reading state information... Done\n",
            "The following additional packages will be installed:\n",
            "  autopoint debhelper debugedit dh-autoreconf dh-strip-nondeterminism dwz gettext gettext-base\n",
            "  intltool-debian libarchive-cpio-perl libarchive-zip-perl libdebhelper-perl\n",
            "  libfile-stripnondeterminism-perl libmail-sendmail-perl libossp-uuid16 libsub-override-perl\n",
            "  libsys-hostname-long-perl libtool po-debconf swi-prolog-core swi-prolog-core-packages\n",
            "  swi-prolog-doc swi-prolog-nox swi-prolog-x\n",
            "Suggested packages:\n",
            "  dh-make gettext-doc libasprintf-dev libgettextpo-dev uuid libtool-doc gcj-jdk libmail-box-perl\n",
            "  elpa-ediprolog swi-prolog-java swi-prolog-odbc swi-prolog-bdb\n",
            "The following NEW packages will be installed:\n",
            "  autopoint debhelper debugedit dh-autoreconf dh-strip-nondeterminism dwz gettext gettext-base\n",
            "  intltool-debian libarchive-cpio-perl libarchive-zip-perl libdebhelper-perl\n",
            "  libfile-stripnondeterminism-perl libmail-sendmail-perl libossp-uuid16 libsub-override-perl\n",
            "  libsys-hostname-long-perl libtool po-debconf swi-prolog swi-prolog-core swi-prolog-core-packages\n",
            "  swi-prolog-doc swi-prolog-nox swi-prolog-x\n",
            "0 upgraded, 25 newly installed, 0 to remove and 24 not upgraded.\n",
            "Need to get 9,926 kB of archives.\n",
            "After this operation, 42.3 MB of additional disk space will be used.\n",
            "Get:1 http://archive.ubuntu.com/ubuntu jammy/main amd64 gettext-base amd64 0.21-4ubuntu4 [37.8 kB]\n",
            "Get:2 http://archive.ubuntu.com/ubuntu jammy/main amd64 autopoint all 0.21-4ubuntu4 [422 kB]\n",
            "Get:3 http://archive.ubuntu.com/ubuntu jammy/main amd64 libdebhelper-perl all 13.6ubuntu1 [67.2 kB]\n",
            "Get:4 http://archive.ubuntu.com/ubuntu jammy/main amd64 libtool all 2.4.6-15build2 [164 kB]\n",
            "Get:5 http://archive.ubuntu.com/ubuntu jammy/main amd64 dh-autoreconf all 20 [16.1 kB]\n",
            "Get:6 http://archive.ubuntu.com/ubuntu jammy/main amd64 libarchive-zip-perl all 1.68-1 [90.2 kB]\n",
            "Get:7 http://archive.ubuntu.com/ubuntu jammy/main amd64 libsub-override-perl all 0.09-2 [9,532 B]\n",
            "Get:8 http://archive.ubuntu.com/ubuntu jammy/main amd64 libfile-stripnondeterminism-perl all 1.13.0-1 [18.1 kB]\n",
            "Get:9 http://archive.ubuntu.com/ubuntu jammy/main amd64 dh-strip-nondeterminism all 1.13.0-1 [5,344 B]\n",
            "Get:10 http://archive.ubuntu.com/ubuntu jammy/main amd64 debugedit amd64 1:5.0-4build1 [47.2 kB]\n",
            "Get:11 http://archive.ubuntu.com/ubuntu jammy/main amd64 dwz amd64 0.14-1build2 [105 kB]\n",
            "Get:12 http://archive.ubuntu.com/ubuntu jammy/main amd64 gettext amd64 0.21-4ubuntu4 [868 kB]\n",
            "Get:13 http://archive.ubuntu.com/ubuntu jammy/main amd64 intltool-debian all 0.35.0+20060710.5 [24.9 kB]\n",
            "Get:14 http://archive.ubuntu.com/ubuntu jammy/main amd64 po-debconf all 1.0.21+nmu1 [233 kB]\n",
            "Get:15 http://archive.ubuntu.com/ubuntu jammy/main amd64 debhelper all 13.6ubuntu1 [923 kB]\n",
            "Get:16 http://archive.ubuntu.com/ubuntu jammy/main amd64 libarchive-cpio-perl all 0.10-1.1 [9,928 B]\n",
            "Get:17 http://archive.ubuntu.com/ubuntu jammy/main amd64 libsys-hostname-long-perl all 1.5-2 [11.5 kB]\n",
            "Get:18 http://archive.ubuntu.com/ubuntu jammy/main amd64 libmail-sendmail-perl all 0.80-1.1 [22.7 kB]\n",
            "Get:19 http://archive.ubuntu.com/ubuntu jammy/universe amd64 libossp-uuid16 amd64 1.6.2-1.5build9 [31.4 kB]\n",
            "Get:20 http://archive.ubuntu.com/ubuntu jammy/universe amd64 swi-prolog-core amd64 8.4.2+dfsg-2ubuntu1 [1,493 kB]\n",
            "Get:21 http://archive.ubuntu.com/ubuntu jammy/universe amd64 swi-prolog-doc all 8.4.2+dfsg-2ubuntu1 [1,504 kB]\n",
            "Get:22 http://archive.ubuntu.com/ubuntu jammy/universe amd64 swi-prolog-core-packages amd64 8.4.2+dfsg-2ubuntu1 [1,335 kB]\n",
            "Get:23 http://archive.ubuntu.com/ubuntu jammy/universe amd64 swi-prolog-nox amd64 8.4.2+dfsg-2ubuntu1 [165 kB]\n",
            "Get:24 http://archive.ubuntu.com/ubuntu jammy/universe amd64 swi-prolog-x amd64 8.4.2+dfsg-2ubuntu1 [2,314 kB]\n",
            "Get:25 http://archive.ubuntu.com/ubuntu jammy/universe amd64 swi-prolog amd64 8.4.2+dfsg-2ubuntu1 [9,122 B]\n",
            "Fetched 9,926 kB in 1s (8,765 kB/s)\n",
            "Selecting previously unselected package gettext-base.\n",
            "(Reading database ... 121666 files and directories currently installed.)\n",
            "Preparing to unpack .../00-gettext-base_0.21-4ubuntu4_amd64.deb ...\n",
            "Unpacking gettext-base (0.21-4ubuntu4) ...\n",
            "Selecting previously unselected package autopoint.\n",
            "Preparing to unpack .../01-autopoint_0.21-4ubuntu4_all.deb ...\n",
            "Unpacking autopoint (0.21-4ubuntu4) ...\n",
            "Selecting previously unselected package libdebhelper-perl.\n",
            "Preparing to unpack .../02-libdebhelper-perl_13.6ubuntu1_all.deb ...\n",
            "Unpacking libdebhelper-perl (13.6ubuntu1) ...\n",
            "Selecting previously unselected package libtool.\n",
            "Preparing to unpack .../03-libtool_2.4.6-15build2_all.deb ...\n",
            "Unpacking libtool (2.4.6-15build2) ...\n",
            "Selecting previously unselected package dh-autoreconf.\n",
            "Preparing to unpack .../04-dh-autoreconf_20_all.deb ...\n",
            "Unpacking dh-autoreconf (20) ...\n",
            "Selecting previously unselected package libarchive-zip-perl.\n",
            "Preparing to unpack .../05-libarchive-zip-perl_1.68-1_all.deb ...\n",
            "Unpacking libarchive-zip-perl (1.68-1) ...\n",
            "Selecting previously unselected package libsub-override-perl.\n",
            "Preparing to unpack .../06-libsub-override-perl_0.09-2_all.deb ...\n",
            "Unpacking libsub-override-perl (0.09-2) ...\n",
            "Selecting previously unselected package libfile-stripnondeterminism-perl.\n",
            "Preparing to unpack .../07-libfile-stripnondeterminism-perl_1.13.0-1_all.deb ...\n",
            "Unpacking libfile-stripnondeterminism-perl (1.13.0-1) ...\n",
            "Selecting previously unselected package dh-strip-nondeterminism.\n",
            "Preparing to unpack .../08-dh-strip-nondeterminism_1.13.0-1_all.deb ...\n",
            "Unpacking dh-strip-nondeterminism (1.13.0-1) ...\n",
            "Selecting previously unselected package debugedit.\n",
            "Preparing to unpack .../09-debugedit_1%3a5.0-4build1_amd64.deb ...\n",
            "Unpacking debugedit (1:5.0-4build1) ...\n",
            "Selecting previously unselected package dwz.\n",
            "Preparing to unpack .../10-dwz_0.14-1build2_amd64.deb ...\n",
            "Unpacking dwz (0.14-1build2) ...\n",
            "Selecting previously unselected package gettext.\n",
            "Preparing to unpack .../11-gettext_0.21-4ubuntu4_amd64.deb ...\n",
            "Unpacking gettext (0.21-4ubuntu4) ...\n",
            "Selecting previously unselected package intltool-debian.\n",
            "Preparing to unpack .../12-intltool-debian_0.35.0+20060710.5_all.deb ...\n",
            "Unpacking intltool-debian (0.35.0+20060710.5) ...\n",
            "Selecting previously unselected package po-debconf.\n",
            "Preparing to unpack .../13-po-debconf_1.0.21+nmu1_all.deb ...\n",
            "Unpacking po-debconf (1.0.21+nmu1) ...\n",
            "Selecting previously unselected package debhelper.\n",
            "Preparing to unpack .../14-debhelper_13.6ubuntu1_all.deb ...\n",
            "Unpacking debhelper (13.6ubuntu1) ...\n",
            "Selecting previously unselected package libarchive-cpio-perl.\n",
            "Preparing to unpack .../15-libarchive-cpio-perl_0.10-1.1_all.deb ...\n",
            "Unpacking libarchive-cpio-perl (0.10-1.1) ...\n",
            "Selecting previously unselected package libsys-hostname-long-perl.\n",
            "Preparing to unpack .../16-libsys-hostname-long-perl_1.5-2_all.deb ...\n",
            "Unpacking libsys-hostname-long-perl (1.5-2) ...\n",
            "Selecting previously unselected package libmail-sendmail-perl.\n",
            "Preparing to unpack .../17-libmail-sendmail-perl_0.80-1.1_all.deb ...\n",
            "Unpacking libmail-sendmail-perl (0.80-1.1) ...\n",
            "Selecting previously unselected package libossp-uuid16:amd64.\n",
            "Preparing to unpack .../18-libossp-uuid16_1.6.2-1.5build9_amd64.deb ...\n",
            "Unpacking libossp-uuid16:amd64 (1.6.2-1.5build9) ...\n",
            "Selecting previously unselected package swi-prolog-core.\n",
            "Preparing to unpack .../19-swi-prolog-core_8.4.2+dfsg-2ubuntu1_amd64.deb ...\n",
            "Unpacking swi-prolog-core (8.4.2+dfsg-2ubuntu1) ...\n",
            "Selecting previously unselected package swi-prolog-doc.\n",
            "Preparing to unpack .../20-swi-prolog-doc_8.4.2+dfsg-2ubuntu1_all.deb ...\n",
            "Unpacking swi-prolog-doc (8.4.2+dfsg-2ubuntu1) ...\n",
            "Selecting previously unselected package swi-prolog-core-packages.\n",
            "Preparing to unpack .../21-swi-prolog-core-packages_8.4.2+dfsg-2ubuntu1_amd64.deb ...\n",
            "Unpacking swi-prolog-core-packages (8.4.2+dfsg-2ubuntu1) ...\n",
            "Selecting previously unselected package swi-prolog-nox.\n",
            "Preparing to unpack .../22-swi-prolog-nox_8.4.2+dfsg-2ubuntu1_amd64.deb ...\n",
            "Unpacking swi-prolog-nox (8.4.2+dfsg-2ubuntu1) ...\n",
            "Selecting previously unselected package swi-prolog-x.\n",
            "Preparing to unpack .../23-swi-prolog-x_8.4.2+dfsg-2ubuntu1_amd64.deb ...\n",
            "Unpacking swi-prolog-x (8.4.2+dfsg-2ubuntu1) ...\n",
            "Selecting previously unselected package swi-prolog.\n",
            "Preparing to unpack .../24-swi-prolog_8.4.2+dfsg-2ubuntu1_amd64.deb ...\n",
            "Unpacking swi-prolog (8.4.2+dfsg-2ubuntu1) ...\n",
            "Setting up libtool (2.4.6-15build2) ...\n",
            "Setting up libarchive-zip-perl (1.68-1) ...\n",
            "Setting up libdebhelper-perl (13.6ubuntu1) ...\n",
            "Setting up gettext-base (0.21-4ubuntu4) ...\n",
            "Setting up libossp-uuid16:amd64 (1.6.2-1.5build9) ...\n",
            "Setting up swi-prolog-core (8.4.2+dfsg-2ubuntu1) ...\n",
            "update-alternatives: using /usr/bin/swipl to provide /usr/bin/prolog (prolog) in auto mode\n",
            "Setting up autopoint (0.21-4ubuntu4) ...\n",
            "Setting up dwz (0.14-1build2) ...\n",
            "Setting up swi-prolog-core-packages (8.4.2+dfsg-2ubuntu1) ...\n",
            "Setting up libarchive-cpio-perl (0.10-1.1) ...\n",
            "Setting up debugedit (1:5.0-4build1) ...\n",
            "Setting up swi-prolog-nox (8.4.2+dfsg-2ubuntu1) ...\n",
            "Setting up libsub-override-perl (0.09-2) ...\n",
            "Setting up libsys-hostname-long-perl (1.5-2) ...\n",
            "Setting up libfile-stripnondeterminism-perl (1.13.0-1) ...\n",
            "Setting up swi-prolog-x (8.4.2+dfsg-2ubuntu1) ...\n",
            "Setting up gettext (0.21-4ubuntu4) ...\n",
            "Setting up swi-prolog-doc (8.4.2+dfsg-2ubuntu1) ...\n",
            "Setting up intltool-debian (0.35.0+20060710.5) ...\n",
            "Setting up dh-autoreconf (20) ...\n",
            "Setting up libmail-sendmail-perl (0.80-1.1) ...\n",
            "Setting up dh-strip-nondeterminism (1.13.0-1) ...\n",
            "Setting up swi-prolog (8.4.2+dfsg-2ubuntu1) ...\n",
            "Setting up po-debconf (1.0.21+nmu1) ...\n",
            "Setting up debhelper (13.6ubuntu1) ...\n",
            "Processing triggers for libc-bin (2.35-0ubuntu3.4) ...\n",
            "/sbin/ldconfig.real: /usr/local/lib/libtbb.so.12 is not a symbolic link\n",
            "\n",
            "/sbin/ldconfig.real: /usr/local/lib/libtbbbind_2_0.so.3 is not a symbolic link\n",
            "\n",
            "/sbin/ldconfig.real: /usr/local/lib/libtbbmalloc.so.2 is not a symbolic link\n",
            "\n",
            "/sbin/ldconfig.real: /usr/local/lib/libtbbbind.so.3 is not a symbolic link\n",
            "\n",
            "/sbin/ldconfig.real: /usr/local/lib/libtbbmalloc_proxy.so.2 is not a symbolic link\n",
            "\n",
            "/sbin/ldconfig.real: /usr/local/lib/libtbbbind_2_5.so.3 is not a symbolic link\n",
            "\n",
            "Processing triggers for man-db (2.10.2-1) ...\n",
            "Collecting pyswip\n",
            "  Downloading pyswip-0.2.10-py2.py3-none-any.whl (27 kB)\n",
            "Installing collected packages: pyswip\n",
            "Successfully installed pyswip-0.2.10\n"
          ]
        }
      ],
      "source": [
        "!apt-get install -y swi-prolog  # Install SWI-Prolog\n",
        "!pip install pyswip            # Install PySwip"
      ]
    },
    {
      "cell_type": "markdown",
      "source": [
        "**Initializing Prolog**"
      ],
      "metadata": {
        "id": "1fhG1vxRUxs4"
      }
    },
    {
      "cell_type": "code",
      "execution_count": 1,
      "metadata": {
        "id": "LeHgne-zE6f_"
      },
      "outputs": [],
      "source": [
        "from pyswip import Prolog"
      ]
    },
    {
      "cell_type": "code",
      "execution_count": 2,
      "metadata": {
        "id": "ujFT2pUpPLmo"
      },
      "outputs": [],
      "source": [
        "# Initialize a Prolog instance\n",
        "prolog = Prolog()"
      ]
    },
    {
      "cell_type": "markdown",
      "source": [
        "**Defining Operations**"
      ],
      "metadata": {
        "id": "-APaGHc3UxEf"
      }
    },
    {
      "cell_type": "markdown",
      "source": [
        "Peano's Axioms Simplified"
      ],
      "metadata": {
        "id": "2w4tSWMZU6jx"
      }
    },
    {
      "cell_type": "code",
      "source": [
        "# Define Peano Arithmetic for Natural Numbers\n",
        "\n",
        "prolog.assertz(\"peano(0)\")  # Assert that 0 is a natural number according to Peano's axioms.\n",
        "\n",
        "prolog.assertz(\"peano(s(X)) :- peano(X)\")  # Define the successor function: If X is a natural number, so is s(X)."
      ],
      "metadata": {
        "id": "1SU7Ijd7rk-A"
      },
      "execution_count": 3,
      "outputs": []
    },
    {
      "cell_type": "markdown",
      "source": [
        "Addition & Subtraction"
      ],
      "metadata": {
        "id": "BBuGRwFtVDaM"
      }
    },
    {
      "cell_type": "code",
      "source": [
        "# Addition for Natural Numbers\n",
        "\n",
        "prolog.assertz(\"add(0, Y, Y) :- peano(Y)\")  # Base case for addition: Adding 0 to any natural number Y results in Y.\n",
        "\n",
        "prolog.assertz(\"add(s(X), Y, s(Z)) :- add(X, Y, Z)\")  # Recursive case for addition until base case is reached: To add s(X) to Y, add X to Y to get Z, then s(Z) is the result.\n",
        "\n",
        "# Subtraction for Natural Numbers (needed for mod_peano)\n",
        "\n",
        "prolog.assertz(\"subtract_peano(X, 0, X) :- peano(X)\")  # Base case for subtraction: Subtracting 0 from any natural number X results in X.\n",
        "\n",
        "prolog.assertz(\"subtract_peano(s(X), s(Y), Z) :- subtract_peano(X, Y, Z)\")  # Recursive case for subtraction until base case is reached: To subtract s(Y) from s(X), subtract Y from X to get Z.\n",
        "\n",
        "# Example of How Recursion Works in the add Predicate:\n",
        "\n",
        "# Let's say we want to add s(s(0)) and s(0) (equivalent to 2 + 1 in standard notation):\n",
        "\n",
        "# 1. add(s(s(0)), s(0), Result)\n",
        "# 2. This translates to add(s(X), Y, s(Z)), where X = s(0) and Y = s(0).\n",
        "# 3. According to the recursive rule, we now need to find add(s(0), s(0), Z).\n",
        "# 4. Again, we use the recursive rule, now X = 0 and Y = s(0).\n",
        "# 5. Now it matches the base case: add(0, s(0), s(0)). So, Z = s(0).\n",
        "# 6. Going back one step, we now know Z, so add(s(0), s(0), s(s(0))).\n",
        "# 7. Finally, going back to the original call, we have add(s(s(0)), s(0), s(s(s(0)))).\n",
        "# 8. Therefore, the Result of adding s(s(0)) and s(0) is s(s(s(0))) (equivalent to 3 in standard notation)."
      ],
      "metadata": {
        "id": "tPkbXtyW6Y_7"
      },
      "execution_count": 4,
      "outputs": []
    },
    {
      "cell_type": "code",
      "source": [
        "test_queries = [\n",
        "        # Addition tests\n",
        "        (\"add(0, s(s(0)), R)\", \"R = s(s(0))\"),\n",
        "        (\"add(s(0), s(s(0)), R)\", \"R = s(s(s(0)))\"),\n",
        "\n",
        "        # Subtraction tests\n",
        "        (\"subtract_peano(s(s(s(0))), 0, R)\", \"R = s(s(s(0)))\"),\n",
        "        (\"subtract_peano(s(s(s(0))), s(0), R)\", \"R = s(s(0))\"),\n",
        "    ]\n",
        "\n",
        "for query, expected_output in test_queries:\n",
        "  result = list(prolog.query(query))\n",
        "  print(f\"Query: {query}\\nExpected Output: {expected_output}\\nActual Result: {result}\\n\")"
      ],
      "metadata": {
        "colab": {
          "base_uri": "https://localhost:8080/"
        },
        "id": "bsQPXnmSUwo6",
        "outputId": "c6d9c700-a579-4fa8-fb5b-83050593beb8"
      },
      "execution_count": 5,
      "outputs": [
        {
          "output_type": "stream",
          "name": "stdout",
          "text": [
            "Query: add(0, s(s(0)), R)\n",
            "Expected Output: R = s(s(0))\n",
            "Actual Result: [{'R': 's(s(0))'}]\n",
            "\n",
            "Query: add(s(0), s(s(0)), R)\n",
            "Expected Output: R = s(s(s(0)))\n",
            "Actual Result: [{'R': 's(s(s(0)))'}]\n",
            "\n",
            "Query: subtract_peano(s(s(s(0))), 0, R)\n",
            "Expected Output: R = s(s(s(0)))\n",
            "Actual Result: [{'R': 's(s(s(0)))'}]\n",
            "\n",
            "Query: subtract_peano(s(s(s(0))), s(0), R)\n",
            "Expected Output: R = s(s(0))\n",
            "Actual Result: [{'R': 's(s(0))'}]\n",
            "\n"
          ]
        }
      ]
    },
    {
      "cell_type": "markdown",
      "source": [
        "Inequalities"
      ],
      "metadata": {
        "id": "5LkcCadxWMA5"
      }
    },
    {
      "cell_type": "code",
      "source": [
        "# Base case: 0 is less than any successor of a number\n",
        "prolog.assertz(\"less_than(0, s(_))\")\n",
        "# This line asserts that 0 is less than the successor of any number. The underscore (_) is a wildcard in Prolog, representing any value. So, for any natural number N, 0 is less than s(N).\n",
        "\n",
        "# Recursive case: Compare successors\n",
        "prolog.assertz(\"less_than(s(X), s(Y)) :- less_than(X, Y)\")\n",
        "# This recursive rule defines that s(X) is less than s(Y) if X is less than Y.\n",
        "# It effectively shifts the comparison to the predecessors of s(X) and s(Y), allowing the definition to work for all natural numbers by eventually reducing to the base case.\n",
        "\n",
        "prolog.assertz(\"equal(0, 0)\")\n",
        "# This asserts that 0 is equal to 0, serving as the base case for equality. Essential for defining equality among natural numbers.\n",
        "\n",
        "prolog.assertz(\"equal(s(X), s(Y)) :- equal(X, Y)\")\n",
        "# This recursive rule states that s(X) is equal to s(Y) if X is equal to Y.\n",
        "# Similar to the less_than predicate, it reduces the problem to a simpler case, ultimately reaching the base case where both numbers are 0.\n",
        "\n",
        "prolog.assertz(\"greater_than(X, Y) :- not(less_than(X, Y)), not(equal(X, Y))\")\n",
        "# This line defines the greater_than relation. It states that X is greater than Y if it is not true that X is less than Y and it is not true that X is equal to Y.\n",
        "# This is an example of defining a relation using the negation of other relations, relying on the previously defined less_than and equal predicates.\n",
        "\n",
        "# The less_than, equal, and greater_than predicates together provide a complete framework for comparing natural numbers in Peano arithmetic.\n",
        "# The less_than and equal predicates are defined directly (with base cases and recursive cases), while greater_than is defined indirectly using the negation of less_than and equal."
      ],
      "metadata": {
        "id": "h_uhBqSmt2M1"
      },
      "execution_count": 5,
      "outputs": []
    },
    {
      "cell_type": "code",
      "source": [
        "# Test queries\n",
        "test_queries = [\n",
        "        # Tests for less_than\n",
        "        (\"less_than(0, s(0))\", \"0 is less than 1\"),\n",
        "        (\"less_than(s(0), s(s(0)))\", \"1 is less than 2\"),\n",
        "\n",
        "        # Tests for equal\n",
        "        (\"equal(s(s(0)), s(s(0)))\", \"2 is equal to 2\"),\n",
        "        (\"equal(0, 0)\", \"0 is equal to 0\"),\n",
        "\n",
        "        # Tests for greater_than\n",
        "        (\"greater_than(s(s(0)), s(0))\", \"2 is greater than 1\"),\n",
        "        (\"greater_than(s(s(s(0))), s(s(0)))\", \"3 is greater than 2\"),\n",
        "\n",
        "        (\"less_than(s(s(0)), s(0))\", False),\n",
        "        (\"less_than(s(s(s(0))), s(s(s(0))))\", False),\n",
        "\n",
        "        # Negative tests for equal\n",
        "        (\"equal(s(0), 0)\", False),\n",
        "        (\"equal(s(s(s(0))), s(0))\", False),\n",
        "\n",
        "        # Negative tests for greater_than\n",
        "        (\"greater_than(0, s(s(0)))\", False),\n",
        "        (\"greater_than(s(0), s(0))\", False)\n",
        "    ]\n",
        "\n",
        "for query, expected_output in test_queries:\n",
        "  result = list(prolog.query(query))\n",
        "  print(f\"Query: {query}\\nExpected Output: {expected_output}\\nActual Result: {'Yes' if result else 'No'}\\n\")"
      ],
      "metadata": {
        "colab": {
          "base_uri": "https://localhost:8080/"
        },
        "id": "xJpnvHKob7ag",
        "outputId": "27dc98a1-7a1c-4c60-a63e-64aa0ee17c06"
      },
      "execution_count": null,
      "outputs": [
        {
          "output_type": "stream",
          "name": "stdout",
          "text": [
            "Query: less_than(0, s(0))\n",
            "Expected Output: 0 is less than 1\n",
            "Actual Result: Yes\n",
            "\n",
            "Query: less_than(s(0), s(s(0)))\n",
            "Expected Output: 1 is less than 2\n",
            "Actual Result: Yes\n",
            "\n",
            "Query: equal(s(s(0)), s(s(0)))\n",
            "Expected Output: 2 is equal to 2\n",
            "Actual Result: Yes\n",
            "\n",
            "Query: equal(0, 0)\n",
            "Expected Output: 0 is equal to 0\n",
            "Actual Result: Yes\n",
            "\n",
            "Query: greater_than(s(s(0)), s(0))\n",
            "Expected Output: 2 is greater than 1\n",
            "Actual Result: Yes\n",
            "\n",
            "Query: greater_than(s(s(s(0))), s(s(0)))\n",
            "Expected Output: 3 is greater than 2\n",
            "Actual Result: Yes\n",
            "\n",
            "Query: less_than(s(s(0)), s(0))\n",
            "Expected Output: False\n",
            "Actual Result: No\n",
            "\n",
            "Query: less_than(s(s(s(0))), s(s(s(0))))\n",
            "Expected Output: False\n",
            "Actual Result: No\n",
            "\n",
            "Query: equal(s(0), 0)\n",
            "Expected Output: False\n",
            "Actual Result: No\n",
            "\n",
            "Query: equal(s(s(s(0))), s(0))\n",
            "Expected Output: False\n",
            "Actual Result: No\n",
            "\n",
            "Query: greater_than(0, s(s(0)))\n",
            "Expected Output: False\n",
            "Actual Result: No\n",
            "\n",
            "Query: greater_than(s(0), s(0))\n",
            "Expected Output: False\n",
            "Actual Result: No\n",
            "\n"
          ]
        }
      ]
    },
    {
      "cell_type": "markdown",
      "source": [
        "Multiplication, Division, Devision in Fractional Form"
      ],
      "metadata": {
        "id": "pxyH7fgzVID6"
      }
    },
    {
      "cell_type": "code",
      "source": [
        "# Multiplication for Natural Numbers\n",
        "\n",
        "prolog.assertz(\"mult(0, _, 0)\")\n",
        "# This line states that multiplying 0 by any number results in 0. This serves as one base case for multiplication.\n",
        "\n",
        "prolog.assertz(\"mult(_, 0, 0)\")\n",
        "# Similar to the first line, this asserts that multiplying any number by 0 also results in 0, establishing another base case for multiplication.\n",
        "\n",
        "prolog.assertz(\"mult(s(X), Y, Z) :- mult(X, Y, XY), add(Y, XY, Z)\")\n",
        "# This line defines the recursive step for multiplication. To multiply s(X) (the successor of X) by Y, first multiply X by Y to get XY, and then add Y to XY to get Z.\n",
        "# This effectively implements the concept of 'repeated addition' for multiplication.\n",
        "\n",
        "\n",
        "# Division for Natural Numbers (Needed for Simplifying Fractions)\n",
        "\n",
        "prolog.assertz(\"div_peano(X, Y, Z) :- div_peano_helper(X, Y, 0, Z)\")\n",
        "# This line initializes the division operation.\n",
        "# It sets up a helper predicate to handle the division process, starting with an accumulator set to 0.\n",
        "\n",
        "prolog.assertz(\"div_peano_helper(X, Y, Acc, Acc) :- less_than(X, Y)\")\n",
        "# This is a base case for the division helper. If X is less than Y, the division process stops, and the current accumulator value is the result.\n",
        "\n",
        "prolog.assertz(\"div_peano_helper(X, Y, Acc, Result) :- not(less_than(X, Y)), subtract_peano(X, Y, X1), div_peano_helper(X1, Y, s(Acc), Result)\")\n",
        "# This is the recursive case for division. If X is not less than Y, it subtracts Y from X, increments the accumulator, and continues the process recursively.\n",
        "# This essentially counts how many times Y can be subtracted from X before X becomes less than Y.\n",
        "\n",
        "# The multiplication predicates define multiplication as repeated addition, following the principles of Peano arithmetic.\n",
        "# The division operation is handled through a helper predicate that uses subtraction and recursion to determine how many times the divisor can be subtracted from the dividend."
      ],
      "metadata": {
        "id": "qeXEsHS9uRe7"
      },
      "execution_count": 6,
      "outputs": []
    },
    {
      "cell_type": "code",
      "source": [
        "test_queries = [\n",
        "        # Tests for multiplication\n",
        "        (\"mult(0, s(s(0)), R)\", \"R = 0 (0 * 2 = 0)\"),\n",
        "        (\"mult(s(s(0)), s(s(s(0))), R)\", \"R = s(s(s(s(s(s(0)))))) (2 * 3 = 6)\"),\n",
        "\n",
        "        # Tests for division\n",
        "        (\"div_peano(s(s(s(s(0)))), s(s(0)), R)\", \"R = s(s(0)) (4 / 2 = 2)\"),\n",
        "        (\"div_peano(s(s(s(s(s(0))))), s(s(0)), R)\", \"R = s(s(0)) (5 / 2 = 2)\"),\n",
        "        (\"div_peano(s(s(0)), s(s(s(0))), R)\", \"R = 0 (2 / 3 = 0)\"),\n",
        "    ]\n",
        "\n",
        "for query, expected_output in test_queries:\n",
        "  result = list(prolog.query(query))\n",
        "  print(f\"Query: {query}\\nExpected Output: {expected_output}\\nActual Result: {result}\\n\")"
      ],
      "metadata": {
        "colab": {
          "base_uri": "https://localhost:8080/"
        },
        "id": "_lmWm550cw8i",
        "outputId": "a52d1ede-6608-4dd2-b1c0-2fc33226213e"
      },
      "execution_count": null,
      "outputs": [
        {
          "output_type": "stream",
          "name": "stdout",
          "text": [
            "Query: mult(0, s(s(0)), R)\n",
            "Expected Output: R = 0 (0 * 2 = 0)\n",
            "Actual Result: [{'R': 0}]\n",
            "\n",
            "Query: mult(s(s(0)), s(s(s(0))), R)\n",
            "Expected Output: R = s(s(s(s(s(s(0)))))) (2 * 3 = 6)\n",
            "Actual Result: [{'R': 's(s(s(s(s(s(0))))))'}]\n",
            "\n",
            "Query: div_peano(s(s(s(s(0)))), s(s(0)), R)\n",
            "Expected Output: R = s(s(0)) (4 / 2 = 2)\n",
            "Actual Result: [{'R': 's(s(0))'}]\n",
            "\n",
            "Query: div_peano(s(s(s(s(s(0))))), s(s(0)), R)\n",
            "Expected Output: R = s(s(0)) (5 / 2 = 2)\n",
            "Actual Result: [{'R': 's(s(0))'}]\n",
            "\n",
            "Query: div_peano(s(s(0)), s(s(s(0))), R)\n",
            "Expected Output: R = 0 (2 / 3 = 0)\n",
            "Actual Result: [{'R': 0}]\n",
            "\n"
          ]
        }
      ]
    },
    {
      "cell_type": "markdown",
      "source": [
        "Representing Fractions"
      ],
      "metadata": {
        "id": "YqeAaCs1VM-V"
      }
    },
    {
      "cell_type": "code",
      "source": [
        "# Fraction Representation (X/Y)\n",
        "prolog.assertz(\"fraction(frac(X, Y)) :- peano(X), peano(Y), not(equal(Y, 0))\")\n",
        "# This line defines a valid fraction in terms of Peano numbers. It asserts that a fraction is valid (frac(X, Y)) if X and Y are Peano numbers and Y is not equal to 0 (to avoid division by zero).\n",
        "\n",
        "# Convert Peano Number to Fraction\n",
        "prolog.assertz(\"peano_to_frac(X, frac(X, s(0))) :- peano(X)\")\n",
        "# This asserts the conversion of a Peano number to a fraction.\n",
        "# A Peano number X is represented as a fraction frac(X, s(0)), where s(0) represents 1 in Peano arithmetic, effectively converting a whole number to its fractional equivalent (X/1).\n",
        "\n",
        "# Modulus for Natural Numbers\n",
        "prolog.assertz(\"mod_peano(X, Y, Z) :- less_than(X, Y), Z = X\")\n",
        "# Base case for modulus: If X is less than Y, then the modulus (X mod Y) is X itself.\n",
        "\n",
        "prolog.assertz(\"mod_peano(X, Y, Z) :- not(less_than(X, Y)), subtract_peano(X, Y, Result), mod_peano(Result, Y, Z)\")\n",
        "# Recursive case for modulus: If X is not less than Y, subtract Y from X and recursively find the modulus of the result with Y. This continues until X is less than Y.\n",
        "\n",
        "# Simplify Fractions\n",
        "prolog.assertz(\"gcd(X, 0, X) :- peano(X)\")\n",
        "# Base case for calculating the greatest common divisor (gcd): If one of the numbers is 0, the gcd is the other number.\n",
        "\n",
        "prolog.assertz(\"gcd(X, Y, Result) :- not(equal(Y, 0)), mod_peano(X, Y, Mod), gcd(Y, Mod, Result)\")\n",
        "# Recursive case for gcd: Uses the Euclidean algorithm. If Y is not 0, find the modulus of X and Y (Mod), then recursively find the gcd of Y and Mod.\n",
        "\n",
        "prolog.assertz(\"simplify_frac(frac(X, Y), frac(Xs, Ys)) :- gcd(X, Y, G), div_peano(X, G, Xs), div_peano(Y, G, Ys)\")\n",
        "# This line defines how to simplify a fraction. First, it finds the gcd of the numerator and denominator.\n",
        "# Then it divides both the numerator and the denominator by the gcd to get the simplified fraction.\n",
        "\n",
        "# These predicates together allow for the representation and manipulation of fractions in terms of Peano numbers.\n",
        "# They include defining valid fractions, converting Peano numbers to fractional form, computing the modulus, and simplifying fractions by finding and using the greatest common divisor."
      ],
      "metadata": {
        "id": "HajEYrLsvOSM"
      },
      "execution_count": 22,
      "outputs": []
    },
    {
      "cell_type": "code",
      "source": [
        "test_cases = [\n",
        "    (\"peano_to_frac(s(s(0)), R)\", \"Convert 2 to fraction\"),\n",
        "    (\"mod_peano(s(s(s(0))), s(s(0)), R)\", \"3 mod 2\"),\n",
        "    (\"simplify_frac(frac(s(s(s(s(0)))), s(s(s(0)))), R)\", \"Simplify 4/3\"),\n",
        "    (\"simplify_frac(frac(s(s(0)), s(s(s(s(0))))), R)\", \"Simplify 2/4\")\n",
        "]\n",
        "\n",
        "# Execute tests\n",
        "test_results = []\n",
        "for query, description in test_cases:\n",
        "    result = list(prolog.query(query))\n",
        "    test_results.append((description, result))\n",
        "\n",
        "for test in test_results:\n",
        "    print(f\"Test: {test[0]} \\nResult: {test[1]}\\n\")"
      ],
      "metadata": {
        "colab": {
          "base_uri": "https://localhost:8080/"
        },
        "id": "S-9vWZSplkuZ",
        "outputId": "4537b2a3-09b1-449e-ff18-a973fbcb770c"
      },
      "execution_count": null,
      "outputs": [
        {
          "output_type": "stream",
          "name": "stdout",
          "text": [
            "Test: Convert 2 to fraction \n",
            "Result: [{'R': 'frac(s(s(0)), s(0))'}]\n",
            "\n",
            "Test: 3 mod 2 \n",
            "Result: [{'R': 's(0)'}]\n",
            "\n",
            "Test: Simplify 4/3 \n",
            "Result: [{'R': 'frac(s(s(s(s(0)))), s(s(s(0))))'}]\n",
            "\n",
            "Test: Simplify 2/4 \n",
            "Result: [{'R': 'frac(s(0), s(s(0)))'}]\n",
            "\n"
          ]
        }
      ]
    },
    {
      "cell_type": "markdown",
      "source": [
        "Division with fractional part"
      ],
      "metadata": {
        "id": "KGsxEiFZWEEg"
      }
    },
    {
      "cell_type": "code",
      "source": [
        "# Division with a Fractional Part\n",
        "\n",
        "prolog.assertz(\"div_peano_frac(X, Y, Result) :- div_peano_helper(X, Y, 0, Quotient), mod_peano(X, Y, Remainder), (less_than(Remainder, s(0)) -> Result = Quotient; Result = frac(X, Y))\")\n",
        "# This line defines division with a fractional part using Peano arithmetic. The process involves three main steps:\n",
        "# 1. Compute the Quotient: Using div_peano_helper, it calculates the integer quotient of X divided by Y, starting with an accumulator of 0.\n",
        "# 2. Calculate the Remainder: It uses mod_peano to find the remainder of X divided by Y.\n",
        "# 3. Determine the Result: If the Remainder is less than s(0) (which represents 1 in Peano arithmetic), the result of the division is just the Quotient.\n",
        "# Otherwise, the result is represented as a fraction frac(X, Y). This conditional effectively checks if there's a remainder.\n",
        "# If there is no remainder (i.e., a complete division), the result is a whole number (Quotient). If there is a remainder, the result is a fraction representing the incomplete division.\n",
        "\n",
        "# This predicate allows for the division of Peano numbers, providing an outcome as either a whole number or a fractional representation, depending on whether the division is exact or has a remainder.\n",
        "# This approach aligns with traditional arithmetic where division results can be expressed either as whole numbers or as fractions."
      ],
      "metadata": {
        "id": "uHdmq4jjwmPC"
      },
      "execution_count": 15,
      "outputs": []
    },
    {
      "cell_type": "code",
      "source": [
        "# Test cases\n",
        "test_cases = [\n",
        "    # Exact Division\n",
        "    (\"div_peano_frac(s(s(s(s(0)))), s(s(0)), Result)\", \"Exact division 4 / 2\"),\n",
        "    # Non-Exact Division\n",
        "    (\"div_peano_frac(s(s(s(s(s(0))))), s(s(s(0))), Result)\", \"Non-exact division 5 / 3\"),\n",
        "]\n",
        "\n",
        "# Execute tests\n",
        "test_results = []\n",
        "for query, description in test_cases:\n",
        "    result = list(prolog.query(query))\n",
        "    test_results.append((description, result))\n",
        "\n",
        "for test in test_results:\n",
        "    print(f\"Test: {test[0]} \\nResult: {test[1]}\\n\")"
      ],
      "metadata": {
        "colab": {
          "base_uri": "https://localhost:8080/",
          "height": 367
        },
        "id": "2FVFgtOknjiR",
        "outputId": "be1bbdbd-ba33-4e9c-d701-bf7443d1b21b"
      },
      "execution_count": 16,
      "outputs": [
        {
          "output_type": "error",
          "ename": "PrologError",
          "evalue": "ignored",
          "traceback": [
            "\u001b[0;31m---------------------------------------------------------------------------\u001b[0m",
            "\u001b[0;31mPrologError\u001b[0m                               Traceback (most recent call last)",
            "\u001b[0;32m<ipython-input-16-7b05ab465724>\u001b[0m in \u001b[0;36m<cell line: 11>\u001b[0;34m()\u001b[0m\n\u001b[1;32m     10\u001b[0m \u001b[0mtest_results\u001b[0m \u001b[0;34m=\u001b[0m \u001b[0;34m[\u001b[0m\u001b[0;34m]\u001b[0m\u001b[0;34m\u001b[0m\u001b[0;34m\u001b[0m\u001b[0m\n\u001b[1;32m     11\u001b[0m \u001b[0;32mfor\u001b[0m \u001b[0mquery\u001b[0m\u001b[0;34m,\u001b[0m \u001b[0mdescription\u001b[0m \u001b[0;32min\u001b[0m \u001b[0mtest_cases\u001b[0m\u001b[0;34m:\u001b[0m\u001b[0;34m\u001b[0m\u001b[0;34m\u001b[0m\u001b[0m\n\u001b[0;32m---> 12\u001b[0;31m     \u001b[0mresult\u001b[0m \u001b[0;34m=\u001b[0m \u001b[0mlist\u001b[0m\u001b[0;34m(\u001b[0m\u001b[0mprolog\u001b[0m\u001b[0;34m.\u001b[0m\u001b[0mquery\u001b[0m\u001b[0;34m(\u001b[0m\u001b[0mquery\u001b[0m\u001b[0;34m)\u001b[0m\u001b[0;34m)\u001b[0m\u001b[0;34m\u001b[0m\u001b[0;34m\u001b[0m\u001b[0m\n\u001b[0m\u001b[1;32m     13\u001b[0m     \u001b[0mtest_results\u001b[0m\u001b[0;34m.\u001b[0m\u001b[0mappend\u001b[0m\u001b[0;34m(\u001b[0m\u001b[0;34m(\u001b[0m\u001b[0mdescription\u001b[0m\u001b[0;34m,\u001b[0m \u001b[0mresult\u001b[0m\u001b[0;34m)\u001b[0m\u001b[0;34m)\u001b[0m\u001b[0;34m\u001b[0m\u001b[0;34m\u001b[0m\u001b[0m\n\u001b[1;32m     14\u001b[0m \u001b[0;34m\u001b[0m\u001b[0m\n",
            "\u001b[0;32m/usr/local/lib/python3.10/dist-packages/pyswip/prolog.py\u001b[0m in \u001b[0;36m__call__\u001b[0;34m(self, query, maxresult, catcherrors, normalize)\u001b[0m\n\u001b[1;32m    124\u001b[0m                     \u001b[0mterm\u001b[0m \u001b[0;34m=\u001b[0m \u001b[0mgetTerm\u001b[0m\u001b[0;34m(\u001b[0m\u001b[0mPL_exception\u001b[0m\u001b[0;34m(\u001b[0m\u001b[0mswipl_qid\u001b[0m\u001b[0;34m)\u001b[0m\u001b[0;34m)\u001b[0m\u001b[0;34m\u001b[0m\u001b[0;34m\u001b[0m\u001b[0m\n\u001b[1;32m    125\u001b[0m \u001b[0;34m\u001b[0m\u001b[0m\n\u001b[0;32m--> 126\u001b[0;31m                     raise PrologError(\"\".join([\"Caused by: '\", query, \"'. \",\n\u001b[0m\u001b[1;32m    127\u001b[0m                                                \"Returned: '\", str(term), \"'.\"]))\n\u001b[1;32m    128\u001b[0m \u001b[0;34m\u001b[0m\u001b[0m\n",
            "\u001b[0;31mPrologError\u001b[0m: Caused by: 'div_peano_frac(s(s(s(s(0)))), s(s(0)), Result)'. Returned: 'error(existence_error(procedure, /(mod_peano, 3)), context(/(div_peano_frac, 3), _3728))'."
          ]
        }
      ]
    },
    {
      "cell_type": "markdown",
      "source": [
        "Fraction Multiplication & Division"
      ],
      "metadata": {
        "id": "EeSrS1oWWrQP"
      }
    },
    {
      "cell_type": "code",
      "source": [
        "# Fraction Addition and Multiplication\n",
        "\n",
        "prolog.assertz(\"add_frac(frac(X1, Y1), frac(X2, Y2), Result) :- mult(X1, Y2, Temp1), mult(X2, Y1, Temp2), add(Temp1, Temp2, Numerator), mult(Y1, Y2, Denominator), simplify_frac(frac(Numerator, Denominator), Result)\")\n",
        "# This line defines the addition of two fractions. The numerators are multiplied by the opposite denominators (cross-multiplication) and then added together.\n",
        "# The denominators are multiplied together. The resulting fraction is then simplified.\n",
        "\n",
        "prolog.assertz(\"mult_frac(frac(X1, Y1), frac(X2, Y2), Result) :- mult(X1, X2, Numerator), mult(Y1, Y2, Denominator), simplify_frac(frac(Numerator, Denominator), Result)\")\n",
        "# This line defines the multiplication of two fractions. The numerators are multiplied together, and the denominators are also multiplied together. The resulting fraction is then simplified.\n",
        "\n",
        "prolog.assertz(\"subtract_frac(frac(X1, Y1), frac(X2, Y2), Result) :- mult(X1, Y2, Temp1), mult(X2, Y1, Temp2), subtract_peano(Temp1, Temp2, Numerator), mult(Y1, Y2, Denominator), simplify_frac(frac(Numerator, Denominator), Result)\")\n",
        "# This line defines the subtraction of two fractions. It follows a similar process to addition: cross-multiplying the numerators and denominators and then subtracting the resulting numerators.\n",
        "# The denominators are multiplied together. The resulting fraction is then simplified.\n",
        "\n",
        "# Fraction Inversion and Division\n",
        "\n",
        "prolog.assertz(\"invert_frac(frac(X, Y), frac(Y, X)) :- not(equal(Y, 0))\")\n",
        "# This line defines the inversion (reciprocal) of a fraction, swapping the numerator and the denominator, as long as the original denominator is not zero.\n",
        "\n",
        "prolog.assertz(\"div_frac(frac(X1, Y1), frac(X2, Y2), Result) :- invert_frac(frac(X2, Y2), Inverse), mult_frac(frac(X1, Y1), Inverse, Result)\")\n",
        "# This line defines division of fractions. It inverts the second fraction and then multiplies it with the first fraction. The result is simplified implicitly within the mult_frac predicate.\n",
        "\n",
        "# These predicates enable arithmetic operations on fractions represented in Peano arithmetic.\n",
        "# They follow the standard rules of fraction arithmetic, including cross-multiplication for addition and subtraction, direct multiplication of numerators and denominators for multiplication, and multiplication with the reciprocal for division.\n",
        "# Each operation ensures the resulting fraction is in its simplest form."
      ],
      "metadata": {
        "id": "-MG7eVCzxx-a"
      },
      "execution_count": 9,
      "outputs": []
    },
    {
      "cell_type": "code",
      "source": [
        "test_cases = [\n",
        "    # Fraction Addition\n",
        "    (\"add_frac(frac(s(0), s(s(0))), frac(s(0), s(s(0))), Result)\", \"Add fractions 1/2 + 1/2\"),\n",
        "    # Fraction Multiplication\n",
        "    (\"mult_frac(frac(s(0), s(s(0))), frac(s(0), s(s(0))), Result)\", \"Multiply fractions 1/2 * 1/2\"),\n",
        "    # Fraction Subtraction\n",
        "    (\"subtract_frac(frac(s(s(0)), s(s(s(0)))), frac(s(0), s(s(s(0)))), Result)\", \"Subtract fractions 2/3 - 1/3\"),\n",
        "    # Fraction Division\n",
        "    (\"div_frac(frac(s(s(0)), s(s(0))), frac(s(0), s(s(0))), Result)\", \"Divide fractions 2/2 ÷ 1/2\"),\n",
        "]\n",
        "\n",
        "# Execute tests\n",
        "test_results = []\n",
        "for query, description in test_cases:\n",
        "    result = list(prolog.query(query))\n",
        "    test_results.append((description, result))\n",
        "\n",
        "for test in test_results:\n",
        "    print(f\"Test: {test[0]} \\nResult: {test[1]}\\n\")"
      ],
      "metadata": {
        "colab": {
          "base_uri": "https://localhost:8080/"
        },
        "id": "b7avUWcHnygF",
        "outputId": "974f48a5-30a7-4bf7-d95c-523c929d30d1"
      },
      "execution_count": null,
      "outputs": [
        {
          "output_type": "stream",
          "name": "stdout",
          "text": [
            "Test: Add fractions 1/2 + 1/2 \n",
            "Result: [{'Result': 'frac(s(0), s(0))'}]\n",
            "\n",
            "Test: Multiply fractions 1/2 * 1/2 \n",
            "Result: [{'Result': 'frac(s(0), s(s(s(s(0)))))'}]\n",
            "\n",
            "Test: Subtract fractions 2/3 - 1/3 \n",
            "Result: [{'Result': 'frac(s(0), s(s(s(0))))'}]\n",
            "\n",
            "Test: Divide fractions 2/2 ÷ 1/2 \n",
            "Result: [{'Result': 'frac(s(s(0)), s(0))'}]\n",
            "\n"
          ]
        }
      ]
    },
    {
      "cell_type": "markdown",
      "source": [
        "Check for Prime"
      ],
      "metadata": {
        "id": "tkNycqzUWvvP"
      }
    },
    {
      "cell_type": "code",
      "source": [
        "# Prime Number Definition\n",
        "\n",
        "prolog.assertz(\"is_prime(s(s(0)))\")\n",
        "# This line asserts that the number 2 (represented as s(s(0)) in Peano arithmetic) is a prime number. This is a base case and is true since 2 is the smallest prime number.\n",
        "\n",
        "prolog.assertz(\"is_prime(X) :- peano(X), not(has_divisor(X, s(s(0))))\")\n",
        "# This line defines a general rule for a number to be considered prime. A number X is prime if it is a Peano number (natural number) and does not have any divisors starting from 2 (s(s(0))).\n",
        "# This rule checks if there are no divisors of X other than 1 and X itself.\n",
        "\n",
        "# Helper Predicates for Prime Number Checking\n",
        "\n",
        "prolog.assertz(\"has_divisor(X, Y) :- less_than(Y, X), mod_peano(X, Y, 0)\")\n",
        "# This line defines a condition where a number X has a divisor Y. If Y is less than X and the modulus of X divided by Y is 0, it means Y is a divisor of X.\n",
        "\n",
        "prolog.assertz(\"has_divisor(X, Y) :- less_than(Y, X), not(mod_peano(X, Y, 0)), next_number(Y, Y1), has_divisor(X, Y1)\")\n",
        "# This line is a recursive definition for finding a divisor. If Y is not a divisor of X (i.e., X mod Y is not 0), it moves to the next number Y1 and checks if Y1 is a divisor of X.\n",
        "# This continues until a divisor is found or all numbers less than X are checked.\n",
        "\n",
        "prolog.assertz(\"next_number(X, s(X)) :- peano(X)\")\n",
        "# This line defines the successor of a number X in Peano arithmetic. It is used in the process of checking for divisors by iterating through numbers less than X.\n",
        "\n",
        "# Summary:\n",
        "# The is_prime predicate defines prime numbers in Peano arithmetic. It relies on has_divisor to check for divisibility and uses next_number for iterating through potential divisors.\n",
        "# A number is considered prime if it has no divisors other than 1 and itself."
      ],
      "metadata": {
        "id": "xhj6tyWEz41l"
      },
      "execution_count": 10,
      "outputs": []
    },
    {
      "cell_type": "code",
      "source": [
        "test_cases = [\n",
        "    # Prime Numbers\n",
        "    (\"is_prime(s(s(0)))\", \"Is 2 prime?\"),\n",
        "    (\"is_prime(s(s(s(0))))\", \"Is 3 prime?\"),\n",
        "    (\"is_prime(s(s(s(s(s(0))))))\", \"Is 5 prime?\"),\n",
        "    # Non-Prime Numbers\n",
        "    (\"is_prime(s(s(s(s(0)))))\", \"Is 4 prime?\"),\n",
        "    (\"is_prime(s(s(s(s(s(s(0)))))))\", \"Is 6 prime?\"),\n",
        "]\n",
        "\n",
        "# Execute tests\n",
        "test_results = []\n",
        "for query, description in test_cases:\n",
        "    result = list(prolog.query(query))\n",
        "    test_results.append((description, bool(result)))  # Convert to bool for clarity\n",
        "\n",
        "for test in test_results:\n",
        "    print(f\"Test: {test[0]} \\nResult: {test[1]}\\n\")"
      ],
      "metadata": {
        "colab": {
          "base_uri": "https://localhost:8080/"
        },
        "id": "PLpM4dzY-3-i",
        "outputId": "61e78506-90d2-4684-d9c6-bfa63d3714a5"
      },
      "execution_count": null,
      "outputs": [
        {
          "output_type": "stream",
          "name": "stdout",
          "text": [
            "Test: Is 2 prime? \n",
            "Result: True\n",
            "\n",
            "Test: Is 3 prime? \n",
            "Result: True\n",
            "\n",
            "Test: Is 5 prime? \n",
            "Result: True\n",
            "\n",
            "Test: Is 4 prime? \n",
            "Result: False\n",
            "\n",
            "Test: Is 6 prime? \n",
            "Result: False\n",
            "\n"
          ]
        }
      ]
    },
    {
      "cell_type": "markdown",
      "source": [
        "Factorials, Exponents, Roots"
      ],
      "metadata": {
        "id": "NGDSABDOWzJZ"
      }
    },
    {
      "cell_type": "code",
      "source": [
        "# Factorial\n",
        "\n",
        "prolog.assertz(\"factorial(0, s(0))\")\n",
        "# This asserts the base case for the factorial function: the factorial of 0 is 1, represented in Peano arithmetic as s(0).\n",
        "\n",
        "prolog.assertz(\"factorial(s(X), Y) :- factorial(X, Temp), mult(s(X), Temp, Y)\")\n",
        "# This is the recursive case for the factorial function. It states that the factorial of s(X) (which is X+1 in traditional arithmetic) is s(X) multiplied by the factorial of X.\n",
        "# Temp is the factorial of X, and Y is the result of multiplying s(X) and Temp.\n",
        "\n",
        "# Power of\n",
        "\n",
        "prolog.assertz(\"power(_, 0, s(0))\")\n",
        "# Base case for the power function: any number raised to the power of 0 is 1, represented as s(0) in Peano arithmetic.\n",
        "\n",
        "prolog.assertz(\"power(X, s(Y), Z) :- power(X, Y, Temp), mult(X, Temp, Z)\")\n",
        "# Recursive case for the power function. To calculate X raised to the power of s(Y), first calculate X raised to the power of Y (stored in Temp), then multiply X by Temp to get Z.\n",
        "\n",
        "# Square Root\n",
        "\n",
        "# Base case: The square root of 0 is 0\n",
        "prolog.assertz(\"sqrt_peano(0, 0)\")\n",
        "# This asserts that the square root of 0 is 0, serving as the base case for the square root function.\n",
        "\n",
        "# Recursive Definition for Square Root\n",
        "prolog.assertz(\"sqrt_peano(X, Y) :- sqrt_helper(X, 0, Y)\")\n",
        "# This initializes the square root calculation by calling a helper function with an accumulator set to 0.\n",
        "\n",
        "prolog.assertz(\"sqrt_helper(X, Acc, Acc) :- power(Acc, s(s(0)), P), not(less_than(P, X))\")\n",
        "# This is the base case for the helper function. It checks if the square of the accumulator is not less than X. If true, the accumulator is the square root.\n",
        "\n",
        "prolog.assertz(\"sqrt_helper(X, Acc, Result) :- power(Acc, s(s(0)), P), less_than(P, X), sqrt_helper(X, s(Acc), Result)\")\n",
        "# This is the recursive case for the helper function. If the square of the accumulator is less than X, increment the accumulator and call the function recursively until the base case is met.\n",
        "\n",
        "# Summary:\n",
        "# The factorial predicate calculates the factorial of a Peano number. The power predicate computes the power of a Peano number raised to another Peano number.\n",
        "# The sqrt_peano predicate calculates the square root of a Peano number using a helper function to incrementally find the square root by comparing squares of numbers to the input."
      ],
      "metadata": {
        "id": "XsfSxjkI2WFe"
      },
      "execution_count": 11,
      "outputs": []
    },
    {
      "cell_type": "code",
      "source": [
        "# Test cases\n",
        "test_cases = [\n",
        "    # Factorial Tests\n",
        "    (\"factorial(0, Result)\", \"Factorial of 0\"),\n",
        "    (\"factorial(s(0), Result)\", \"Factorial of 1\"),\n",
        "    (\"factorial(s(s(s(0))), Result)\", \"Factorial of 3\"),\n",
        "    # Power Tests\n",
        "    (\"power(s(s(0)), s(s(s(0))), Result)\", \"2 to the power of 3\"),\n",
        "    (\"power(s(s(s(0))), s(s(0)), Result)\", \"3 to the power of 2\"),\n",
        "    # Square Root Tests\n",
        "    (\"sqrt_peano(s(s(s(s(0)))), Result)\", \"Square root of 4\"),\n",
        "    (\"sqrt_peano(s(s(s(s(s(s(s(s(s(0))))))))), Result)\", \"Square root of 9\"),\n",
        "]\n",
        "\n",
        "# Execute tests\n",
        "test_results = []\n",
        "for query, description in test_cases:\n",
        "    result = list(prolog.query(query))\n",
        "    test_results.append((description, result))\n",
        "\n",
        "for test in test_results:\n",
        "    print(f\"Test: {test[0]} \\nResult: {test[1]}\\n\")"
      ],
      "metadata": {
        "colab": {
          "base_uri": "https://localhost:8080/"
        },
        "id": "xP9WlYrppSDU",
        "outputId": "e7f14df0-98d0-4541-ecfe-d9d9f206ee99"
      },
      "execution_count": null,
      "outputs": [
        {
          "output_type": "stream",
          "name": "stdout",
          "text": [
            "Test: Factorial of 0 \n",
            "Result: [{'Result': 's(0)'}]\n",
            "\n",
            "Test: Factorial of 1 \n",
            "Result: [{'Result': 's(0)'}]\n",
            "\n",
            "Test: Factorial of 3 \n",
            "Result: [{'Result': 's(s(s(s(s(s(0))))))'}]\n",
            "\n",
            "Test: 2 to the power of 3 \n",
            "Result: [{'Result': 's(s(s(s(s(s(s(s(0))))))))'}]\n",
            "\n",
            "Test: 3 to the power of 2 \n",
            "Result: [{'Result': 's(s(s(s(s(s(s(s(s(0)))))))))'}]\n",
            "\n",
            "Test: Square root of 4 \n",
            "Result: [{'Result': 's(s(0))'}, {'Result': 's(s(0))'}]\n",
            "\n",
            "Test: Square root of 9 \n",
            "Result: [{'Result': 's(s(s(0)))'}, {'Result': 's(s(s(0)))'}]\n",
            "\n"
          ]
        }
      ]
    },
    {
      "cell_type": "markdown",
      "source": [
        "Simple linear equation in the form CY−B=AX."
      ],
      "metadata": {
        "id": "9W1LkH_so2hG"
      }
    },
    {
      "cell_type": "code",
      "source": [
        "# Linear Equation Solver\n",
        "\n",
        "prolog.assertz(\"solve_for_x(A, B, C, Y, X) :- mult(C, Y, CY), subtract_peano(CY, B, Result), div_peano_frac(Result, A, X)\")\n",
        "# This line defines a predicate to solve a linear equation of the form AX + B = CY for X. The steps are as follows:\n",
        "# 1. Multiply C and Y to get CY. This corresponds to computing the right-hand side of the equation.\n",
        "# 2. Subtract B from CY to isolate AX (Result). This operation effectively shifts B to the other side of the equation, changing its sign.\n",
        "# 3. Divide the Result by A to solve for X. This step uses div_peano_frac, which can handle division with a fractional part, accommodating cases where A does not perfectly divide the Result.\n",
        "\n",
        "# Summary:\n",
        "# This predicate provides a way to solve a simple linear equation in Peano arithmetic.\n",
        "# The use of mult (for multiplication), subtract_peano (for subtraction), and div_peano_frac (for division) allows the solution to be obtained in terms of Peano's natural numbers and fractions."
      ],
      "metadata": {
        "id": "K-3uGTF62zQ_"
      },
      "execution_count": 12,
      "outputs": []
    },
    {
      "cell_type": "code",
      "source": [
        "test_cases = [\n",
        "    # Test linear equation Ax + B = CY, solve for X\n",
        "    # Test Case 1: 2x + 3 = 5y, solve for x when y = 2 (s(s(0)))\n",
        "    (\"solve_for_x(s(s(0)), s(s(s(0))), s(s(s(0))), s(s(0)), X)\", \"Solve 2x + 3 = 3y for x when y = 2\"),\n",
        "    # Test Case 2: 3x + 1 = 4y, solve for x when y = 3 (s(s(s(0))))\n",
        "    (\"solve_for_x(s(s(s(0))), s(0), s(s(s(s(0)))), s(s(s(0))), X)\", \"Solve 3x + 1 = 4y for x when y = 3\"),\n",
        "]\n",
        "\n",
        "# Execute tests\n",
        "test_results = []\n",
        "for query, description in test_cases:\n",
        "    result = list(prolog.query(query))\n",
        "    test_results.append((description, result))\n",
        "\n",
        "for test in test_results:\n",
        "    print(f\"Test: {test[0]} \\nResult: {test[1]}\\n\")"
      ],
      "metadata": {
        "colab": {
          "base_uri": "https://localhost:8080/"
        },
        "id": "CpkdGytcpn4B",
        "outputId": "d3953dc3-f9ec-4e48-ec75-1e9cda849747"
      },
      "execution_count": null,
      "outputs": [
        {
          "output_type": "stream",
          "name": "stdout",
          "text": [
            "Test: Solve 2x + 3 = 3y for x when y = 2 \n",
            "Result: [{'X': 'frac(s(s(s(0))), s(s(0)))'}]\n",
            "\n",
            "Test: Solve 3x + 1 = 4y for x when y = 3 \n",
            "Result: [{'X': 'frac(s(s(s(s(s(s(s(s(s(s(s(0))))))))))), s(s(s(0))))'}]\n",
            "\n"
          ]
        }
      ]
    },
    {
      "cell_type": "markdown",
      "source": [
        "**Interface**"
      ],
      "metadata": {
        "id": "CdmToM2zoygD"
      }
    },
    {
      "cell_type": "code",
      "source": [
        "import re\n",
        "\n",
        "def peano_to_int(peano_str):\n",
        "    \"\"\"\n",
        "    Convert a Peano number representation (as a string) to a Python integer.\n",
        "    Peano number is represented as successive applications of 's', e.g., 's(s(s(0)))' for 3.\n",
        "    \"\"\"\n",
        "    return peano_str.count('s(')\n",
        "\n",
        "def process_prolog_output(query_result):\n",
        "    \"\"\"\n",
        "    Convert Prolog output containing Peano numbers to Python integers or fractions in string format.\n",
        "    \"\"\"\n",
        "    result = {}\n",
        "    for var, value in query_result.items():\n",
        "        # Check if the value represents a fraction\n",
        "        frac_match = re.search(r'frac\\((.*), (.*)\\)', value)\n",
        "        if frac_match:\n",
        "            numerator, denominator = frac_match.groups()\n",
        "            numerator_val = peano_to_int(numerator)\n",
        "            denominator_val = peano_to_int(denominator)\n",
        "            result[var] = f\"{numerator_val}/{denominator_val}\"\n",
        "        else:\n",
        "            # Convert direct Peano numbers\n",
        "            result[var] = peano_to_int(value)\n",
        "    return result\n",
        "\n",
        "# Example usage\n",
        "prolog_output = [\n",
        "    {'R': 'frac(s(s(s(0))), s(s(0)))'},  # Inverting 2/3\n",
        "    {'R': 'frac(s(0), s(s(s(0))))'},     # Dividing 2/3 by 2/1\n",
        "    {'R': 's(s(0))'},                    # 2!\n",
        "    {'R': 's(s(s(s(s(s(0))))))'},        # 3!\n",
        "    {'R': 's(s(s(s(0))))'},              # 2^2\n",
        "    {'R': 's(s(s(s(s(s(s(s(0))))))))'},  # 2^3\n",
        "    {'X': 's(s(s(s(s(s(s(s(0))))))))'}   # solve_for_x example\n",
        "]\n",
        "\n",
        "# Process each query result\n",
        "for output in prolog_output:\n",
        "    print(process_prolog_output(output))"
      ],
      "metadata": {
        "colab": {
          "base_uri": "https://localhost:8080/"
        },
        "id": "vtjHCEsuvpay",
        "outputId": "568c809c-9190-4f1c-fd24-7634122729ef"
      },
      "execution_count": 8,
      "outputs": [
        {
          "output_type": "stream",
          "name": "stdout",
          "text": [
            "{'R': '3/2'}\n",
            "{'R': '1/3'}\n",
            "{'R': 2}\n",
            "{'R': 6}\n",
            "{'R': 4}\n",
            "{'R': 8}\n",
            "{'X': 8}\n"
          ]
        }
      ]
    },
    {
      "cell_type": "code",
      "source": [
        "def fraction_to_peano(fraction):\n",
        "    \"\"\"\n",
        "    Convert a Python fraction (numerator, denominator) to its Peano number representation.\n",
        "    \"\"\"\n",
        "    numerator, denominator = fraction\n",
        "    peano_numerator = int_to_peano(numerator)\n",
        "    peano_denominator = int_to_peano(denominator)\n",
        "    return f'frac({peano_numerator}, {peano_denominator})'\n",
        "\n",
        "def int_to_peano(n):\n",
        "    # Existing function to convert integers to Peano numbers\n",
        "    if n == 0:\n",
        "        return '0'\n",
        "    else:\n",
        "        return 's(' + int_to_peano(n - 1) + ')'\n",
        "\n",
        "# Example usage\n",
        "print(fraction_to_peano((2, 3)))  # Should print 'frac(s(s(0)), s(s(s(0))))'\n",
        "print(fraction_to_peano((5, 7)))  # Should print 'frac(s(s(s(s(s(0))))), s(s(s(s(s(s(s(0))))))))'"
      ],
      "metadata": {
        "colab": {
          "base_uri": "https://localhost:8080/"
        },
        "id": "V_-BFT37MXqO",
        "outputId": "2a58b34f-1d12-4d82-fabd-8e6d7c027ba3"
      },
      "execution_count": 9,
      "outputs": [
        {
          "output_type": "stream",
          "name": "stdout",
          "text": [
            "frac(s(s(0)), s(s(s(0))))\n",
            "frac(s(s(s(s(s(0))))), s(s(s(s(s(s(s(0))))))))\n"
          ]
        }
      ]
    },
    {
      "cell_type": "code",
      "source": [
        "def process_input_and_return_prolog_query(input_string):\n",
        "    # Split the input string to identify operands and the operation\n",
        "    input_string = input_string.replace('', ' ')\n",
        "    parts = input_string.split()\n",
        "\n",
        "    if len(parts) != 3:\n",
        "        return \"Invalid input. Expected format: 'operand1 operation operand2'.\"\n",
        "\n",
        "    operand1, operation, operand2 = parts\n",
        "\n",
        "    # Check if the operation is a valid operator\n",
        "    valid_operators = ['+', '-', '*', '/']\n",
        "    if operation not in valid_operators:\n",
        "        return \"Invalid operation. Supported operations are +, -, *, /.\"\n",
        "\n",
        "    # Convert operands to integers\n",
        "    try:\n",
        "        operand1_int = int(operand1)\n",
        "        operand2_int = int(operand2)\n",
        "    except ValueError:\n",
        "        return \"Invalid operands. Operands must be integers.\"\n",
        "\n",
        "    # Convert operands to Peano notation\n",
        "    operand1_peano = int_to_peano(operand1_int)\n",
        "    operand2_peano = int_to_peano(operand2_int)\n",
        "\n",
        "    # Construct the Prolog query\n",
        "    if operation == '+':\n",
        "        return f\"add({operand1_peano}, {operand2_peano}, R)\"\n",
        "    elif operation == '-':\n",
        "        return f\"subtract_peano({operand1_peano}, {operand2_peano}, R)\"\n",
        "    elif operation == '*':\n",
        "        return f\"mult({operand1_peano}, {operand2_peano}, R)\"\n",
        "    elif operation == '/':\n",
        "        return f\"div_peano_frac({operand1_peano}, {operand2_peano}, R)\"\n",
        "    else:\n",
        "        return \"Unsupported operation.\""
      ],
      "metadata": {
        "id": "DMysTSznHC4L"
      },
      "execution_count": 25,
      "outputs": []
    },
    {
      "cell_type": "code",
      "source": [
        "def process_query(query):\n",
        "  print(query)\n",
        "  try:\n",
        "      solutions = list(prolog.query(query))\n",
        "      if solutions:\n",
        "          result = solutions[0]['R']  # Assuming 'R' is the variable for result\n",
        "          # Check if the result represents a fraction\n",
        "          frac_match = re.search(r'frac\\((.*), (.*)\\)', result)\n",
        "          if frac_match:\n",
        "              numerator, denominator = frac_match.groups()\n",
        "              numerator_val = peano_to_int(numerator)\n",
        "              denominator_val = peano_to_int(denominator)\n",
        "              return f\"{numerator_val}/{denominator_val}\"\n",
        "          else:\n",
        "              return peano_to_int(result)\n",
        "      else:\n",
        "          return \"No solution found.\"\n",
        "  except Exception as e:\n",
        "      return f\"Prolog query failed: {e}\""
      ],
      "metadata": {
        "id": "IrBlGNT1HLQ7"
      },
      "execution_count": 26,
      "outputs": []
    },
    {
      "cell_type": "code",
      "source": [
        "process_query(\"add(s(s(s(0))), s(s(0)), R)\")"
      ],
      "metadata": {
        "colab": {
          "base_uri": "https://localhost:8080/"
        },
        "id": "PT9VQ3zXIeC6",
        "outputId": "3a2cba1a-faba-4362-d690-5a30458588b2"
      },
      "execution_count": 27,
      "outputs": [
        {
          "output_type": "stream",
          "name": "stdout",
          "text": [
            "add(s(s(s(0))), s(s(0)), R)\n"
          ]
        },
        {
          "output_type": "execute_result",
          "data": {
            "text/plain": [
              "5"
            ]
          },
          "metadata": {},
          "execution_count": 27
        }
      ]
    },
    {
      "cell_type": "code",
      "source": [
        "import ipywidgets as widgets\n",
        "from IPython.display import display\n",
        "\n",
        "class Calculator:\n",
        "    def __init__(self):\n",
        "        # Styling constants\n",
        "        button_layout = widgets.Layout(width='auto', height='40px')\n",
        "        button_style = 'info'  # Other options: 'success', 'info', 'warning', 'danger' or ''\n",
        "        input_text_style = {'description_width': 'initial'}\n",
        "\n",
        "        # Text widget for input\n",
        "        self.input_text = widgets.Text(description='Input:', style=input_text_style)\n",
        "\n",
        "        # Buttons for digits and operations\n",
        "        self.digit_buttons = [widgets.Button(description=str(i), layout=button_layout, button_style=button_style) for i in range(10)]\n",
        "        self.operation_buttons = [\n",
        "            widgets.Button(description=op, layout=button_layout, button_style=button_style)\n",
        "            for op in ['+', '-', '*', '/', '%', '!', '^', '√', '(', ')', 'Prime?', ':', '>', '<', '==']\n",
        "        ]\n",
        "        self.clear_button = widgets.Button(description='Clear', layout=button_layout, button_style='danger')\n",
        "        self.backspace_button = widgets.Button(description='Backspace', layout=button_layout, button_style='warning')\n",
        "        self.calculate_button = widgets.Button(description='Calculate', layout=button_layout, button_style='success')\n",
        "        self.input_text = widgets.Text(description='Input:', style=input_text_style)\n",
        "        self.current_input = \"\"\n",
        "\n",
        "        # Output widget\n",
        "        self.output = widgets.Output()\n",
        "\n",
        "        # Set up the layout\n",
        "        self.setup_layout()\n",
        "\n",
        "        # Set button click events\n",
        "        for button in self.digit_buttons + self.operation_buttons + [self.clear_button, self.backspace_button]:\n",
        "            button.on_click(self.append_to_input)\n",
        "\n",
        "        # Set click event for the Calculate button\n",
        "        self.calculate_button.on_click(self.perform_calculation)\n",
        "\n",
        "    def setup_layout(self):\n",
        "        # Creating rows for a more traditional calculator layout\n",
        "        digit_rows = [widgets.HBox(self.digit_buttons[i:i + 3]) for i in range(0, len(self.digit_buttons), 3)]\n",
        "        operations_row = widgets.HBox(self.operation_buttons)\n",
        "        control_row = widgets.HBox([self.clear_button, self.backspace_button, self.calculate_button])\n",
        "        layout = widgets.VBox([self.input_text] + digit_rows + [operations_row, control_row, self.output])\n",
        "        display(layout)\n",
        "\n",
        "    def append_to_input(self, button):\n",
        "        if button.description == 'Clear':\n",
        "            self.current_input = ''  # Clear the current input\n",
        "            self.input_text.value = ''  # Clear the input text field\n",
        "        elif button.description == 'Backspace':\n",
        "            self.current_input = self.current_input[:-1]  # Remove the last character from current input\n",
        "            self.input_text.value = self.current_input  # Update the input text field\n",
        "        else:\n",
        "            self.current_input += button.description  # Append the clicked button's description\n",
        "            self.input_text.value = self.current_input  # Update the input text field\n",
        "\n",
        "    def perform_calculation(self, button):\n",
        "      input_str = self.current_input  # Use the current input for calculation\n",
        "      query = process_input_and_return_prolog_query(input_str)"
      ],
      "metadata": {
        "id": "p31110F2Li-f"
      },
      "execution_count": 28,
      "outputs": []
    },
    {
      "cell_type": "code",
      "source": [
        "# To use the calculator, create an instance of the Calculator class\n",
        "# Works for single digit queries, unfortunately not all functionalities could be added in time except +, -, *, /\n",
        "calculator = Calculator()"
      ],
      "metadata": {
        "colab": {
          "base_uri": "https://localhost:8080/",
          "height": 365,
          "referenced_widgets": [
            "1f026fcdf1dd4dbf9584339525221309",
            "629fa617d4794ee1886ca784f639a78d",
            "eb9193f351d841b6a1f8bb27986ff3e9",
            "3af485b3f99c4d038f449f81bebf4fe1",
            "ef692a3bcc2d41d1915ae487376467bc",
            "d3e3b49e0a0e4ef888c22d01e8122e33",
            "1efac7bd611e480e9d32a25a1af44065",
            "735f5a84c7794f819dd25623ef4ca8db",
            "1389ece33adf4072be6706c90507e1c9",
            "f744084f9c484f1688074290bdf9c14a",
            "7f0b1cf844224a0f877c7b0b1c27f68c",
            "38bbc087e6fa45758bcd758d180bbc5c",
            "e3b2729b87624956ba60b834e7e2193c",
            "95eb90cb909047239dc76d32aa63b208",
            "70841fd12bcc43bdafa6641f295d552b",
            "9949fe847c7f42568a63f21c8f6ca8fd",
            "651006660898467abd096178fd6e4282",
            "a315348ab9d54c1f8779606302f32bfd",
            "39199e51e33446f1b9800305df7a63a2",
            "6d734c5f253f4a389e635dec445b4ae5",
            "bdb84f789c3c4d5b99cbd31c94e4ed52",
            "396a88bb657c4d45a2539504e07d6d68",
            "b4debe7a2d6a4060b78aaeb600de390a",
            "0475e72af02a48a8a8e5dd35946a1e29",
            "505e136558494b1b86e35387aba6fed4",
            "ae74bc8500c74440b0a299de104ff06d",
            "afcec26979ae4d93a04803c62d5e4be5",
            "9dfca73a6eba4b19934e97b18eb6c747",
            "3702ca41cf5c41f39b0c4a555feb25a0",
            "0e36efdbcca1408eb9c03854aa35e1db",
            "7f4f420185da4fea80ad237a24085d9a",
            "1c2fce23d7de41efb62227947a0a9089",
            "00ff717212cb422786c4129d7a14e11d",
            "7f035fb1431747408d2bbec83ea2eb70",
            "9885c20e069e40749f9c55d93e4b43e7",
            "4b3d259cd5ca4d3696d6ae59a988c594",
            "eaa3e919642c49debc55cf7d83f0c04f",
            "d524d48996344aca92300f9f7fe0a58e",
            "c78d5f239a3c427982197a3f698bf011",
            "dd389b5e225c45f4a44c8def5c829d6b",
            "d604c046c8c5410d9d9e4b89751babcc",
            "965756a08fa04951a22868452ac03f65",
            "b7784a8b89d24a61bd8e1e7bbc3f6a84",
            "7d5b24b9155f4cb193ecc735408f604b",
            "b6603e2c557f4731b71520dbdeb01578",
            "18f3844de06240739d7033597b4b6d84",
            "35a3b6d0e04449ad8d0821aa6110693d",
            "9244b2ad6a03487799bfe10bdbbb07e2",
            "96539e52ebba4d54860d265740ddfaae",
            "423267141b21426d867495c6aabb753e",
            "f5346023ea0d481b809730c86793716d",
            "c995ef734d5c4e8cb3b8b6c96a9ee80d",
            "16c2442a7e0a4dff831dd6af001cda53",
            "71956dfadb0d44d89a6f97de21152058",
            "e19cdf146bc4477b94d30fe5ce9e5563",
            "9204659f6c83489c86b3ce196f484c11",
            "9a46114d1b214d29a58bc39e3aa0c614",
            "68ef476959cc43b1b27dc791c6d6fc25",
            "24bfb5d496f447818ec9ae23c501b5bb",
            "2b2a2bcf706b45c08f127f005f8f3288",
            "a34b494283b6449ba305026e907159fa",
            "ff90fb5c0c574966b544ef1c42780cf6",
            "25e0a23a491644918f542beb82212f8b",
            "a9c868bd036c4b0a925ae7a91181e5c6",
            "62c40a5c8f6240cb857afec98fb66dc9",
            "de5a6aa63250414ca1aab0d09f00a77e",
            "b5eaea617f20477c9d987decc1011a93",
            "385907e2f1634aaa9a2b1cfc9a1cffbf",
            "592853ecc54a4dec8b1242a4421844d7",
            "f25891345a98401ea9e93cf0f4d9ebba",
            "97aa2de85d8b477db40f60cc07968fe9",
            "51d682c425ee419099b00cf9e161cd73",
            "0aad0e0aee1f4b55995f52e8e31fe253",
            "06320c155d1147bdb99d55ae41063080",
            "189d4d82979b4f899a7ca0a2398a076e",
            "38c096b1395f4c22818ab0ed07511c8b"
          ]
        },
        "id": "tZ10cpX9Qhkg",
        "outputId": "011fd624-2272-4987-822f-e13ed7a929ec"
      },
      "execution_count": 29,
      "outputs": [
        {
          "output_type": "display_data",
          "data": {
            "text/plain": [
              "VBox(children=(Text(value='', description='Input:', style=DescriptionStyle(description_width='initial')), HBox…"
            ],
            "application/vnd.jupyter.widget-view+json": {
              "version_major": 2,
              "version_minor": 0,
              "model_id": "1f026fcdf1dd4dbf9584339525221309"
            }
          },
          "metadata": {}
        },
        {
          "output_type": "stream",
          "name": "stdout",
          "text": [
            "['8', '/', '2']\n",
            "div_peano_frac(s(s(s(s(s(s(s(s(0)))))))), s(s(0)), R)\n",
            "4\n"
          ]
        }
      ]
    },
    {
      "cell_type": "markdown",
      "source": [
        "**Complexity**"
      ],
      "metadata": {
        "id": "lmPYyCCMaJ1Z"
      }
    },
    {
      "cell_type": "code",
      "source": [
        "import matplotlib.pyplot as plt\n",
        "import time\n",
        "\n",
        "# Function to add two numbers using Prolog\n",
        "def prolog_add(x, y):\n",
        "    result = list(prolog.query(f\"add({x}, {y}, Z)\"))\n",
        "    return result[0]['Z'] if result else None\n",
        "\n",
        "# Keeping the first variable constant and incrementing the second variable\n",
        "constant_var = \"0\"  # Keeping the first variable as 0\n",
        "scaling_results = []\n",
        "num_trials = 50  # Number of trials for averaging\n",
        "\n",
        "for i in range(0, 200, 10):  # Test for the first 30 natural numbers\n",
        "    incremented_var = \"s(\" * i + \"0\" + \")\" * i  # Incrementing the second variable\n",
        "    total_time = 0\n",
        "\n",
        "    for _ in range(num_trials):\n",
        "        start_time = time.time()\n",
        "        result = prolog_add(constant_var, incremented_var)\n",
        "        end_time = time.time()\n",
        "        total_time += end_time - start_time\n",
        "\n",
        "    average_time = total_time / num_trials\n",
        "    scaling_results.append((i, average_time))\n",
        "\n",
        "# Extract data for plotting\n",
        "x_values = [result[0] for result in scaling_results]\n",
        "y_values = [result[1] for result in scaling_results]\n",
        "\n",
        "# Plotting the graph\n",
        "plt.figure(figsize=(10, 6))\n",
        "plt.plot(x_values, y_values, marker='o')\n",
        "plt.title(\"Scaling of Prolog Add Function (Averaged over Multiple Trials)\")\n",
        "plt.xlabel(\"Incremented Variable (s*n(0))\")\n",
        "plt.ylabel(\"Average Time Taken (seconds)\")\n",
        "plt.grid(True)\n",
        "plt.show()"
      ],
      "metadata": {
        "id": "o1VNZiaraIi6",
        "colab": {
          "base_uri": "https://localhost:8080/",
          "height": 564
        },
        "outputId": "22658717-ad34-4533-ec4d-6195f956efa6"
      },
      "execution_count": 34,
      "outputs": [
        {
          "output_type": "display_data",
          "data": {
            "text/plain": [
              "<Figure size 1000x600 with 1 Axes>"
            ],
            "image/png": "[encoded data removed]"
          },
          "metadata": {}
        }
      ]
    },
    {
      "cell_type": "code",
      "source": [
        "# Function to add two numbers using Prolog\n",
        "def prolog_mult(x, y):\n",
        "    result = list(prolog.query(f\"mult({x}, {y}, Z)\"))\n",
        "    return result[0]['Z'] if result else None\n",
        "\n",
        "# Keeping the first variable constant and incrementing the second variable\n",
        "constant_var = \"2\"  # Keeping the first variable as 0\n",
        "scaling_results = []\n",
        "num_trials = 200  # Number of trials for averaging\n",
        "\n",
        "for i in range(0, 4000, 50):  # Test for the first 30 natural numbers\n",
        "    incremented_var = \"s(\" * i + \"0\" + \")\" * i  # Incrementing the second variable\n",
        "    total_time = 0\n",
        "\n",
        "    for _ in range(num_trials):\n",
        "        start_time = time.time()\n",
        "        result = prolog_mult(incremented_var, constant_var)\n",
        "        end_time = time.time()\n",
        "        total_time += end_time - start_time\n",
        "\n",
        "    average_time = total_time / num_trials\n",
        "    scaling_results.append((i, average_time))\n",
        "\n",
        "# Extract data for plotting\n",
        "x_values = [result[0] for result in scaling_results]\n",
        "y_values = [result[1] for result in scaling_results]\n",
        "\n",
        "# Plotting the graph\n",
        "plt.figure(figsize=(10, 6))\n",
        "plt.plot(x_values, y_values, marker='o')\n",
        "plt.title(\"Scaling of Prolog Multiply Function (Averaged over Multiple Trials)\")\n",
        "plt.xlabel(\"Incremented Variable (s*n*n(0))\")\n",
        "plt.ylabel(\"Average Time Taken (seconds)\")\n",
        "plt.grid(True)\n",
        "plt.show()"
      ],
      "metadata": {
        "colab": {
          "base_uri": "https://localhost:8080/",
          "height": 564
        },
        "id": "G1l58b1YqSIu",
        "outputId": "f5e40d8b-17b5-43f6-a975-7cbaf6492b83"
      },
      "execution_count": 31,
      "outputs": [
        {
          "output_type": "display_data",
          "data": {
            "text/plain": [
              "<Figure size 1000x600 with 1 Axes>"
            ],
            "image/png": "[encoded data removed]"
          },
          "metadata": {}
        }
      ]
    },
    {
      "cell_type": "code",
      "source": [
        "# Function to add two numbers using Prolog\n",
        "def prolog_mult(x, y):\n",
        "    result = list(prolog.query(f\"mult({x}, {y}, Z)\"))\n",
        "    return result[0]['Z'] if result else None\n",
        "\n",
        "# Keeping the first variable constant and incrementing the second variable\n",
        "constant_var = \"1\"  # Keeping the first variable as 0\n",
        "scaling_results = []\n",
        "num_trials = 50  # Number of trials for averaging\n",
        "\n",
        "for i in range(0, 15):  # Test for the first 30 natural numbers\n",
        "    incremented_var = \"s(\" * i + \"0\" + \")\" * i  # Incrementing the second variable\n",
        "    total_time = 0\n",
        "\n",
        "    for _ in range(num_trials):\n",
        "        start_time = time.time()\n",
        "        result = prolog_mult(incremented_var, incremented_var)\n",
        "        end_time = time.time()\n",
        "        total_time += end_time - start_time\n",
        "\n",
        "    average_time = total_time / num_trials\n",
        "    scaling_results.append((i, average_time))\n",
        "\n",
        "# Extract data for plotting\n",
        "x_values = [result[0] for result in scaling_results]\n",
        "y_values = [result[1] for result in scaling_results]\n",
        "\n",
        "# Plotting the graph\n",
        "plt.figure(figsize=(10, 6))\n",
        "plt.plot(x_values, y_values, marker='o')\n",
        "plt.title(\"Scaling of Prolog Multiply Function (Averaged over Multiple Trials)\")\n",
        "plt.xlabel(\"Incremented Variable (s*n*n(0))\")\n",
        "plt.ylabel(\"Average Time Taken (seconds)\")\n",
        "plt.grid(True)\n",
        "plt.show()"
      ],
      "metadata": {
        "colab": {
          "base_uri": "https://localhost:8080/",
          "height": 564
        },
        "id": "bszg40coejtH",
        "outputId": "6c5bdc69-5527-47d6-da24-318ace4af2ec"
      },
      "execution_count": 22,
      "outputs": [
        {
          "output_type": "display_data",
          "data": {
            "text/plain": [
              "<Figure size 1000x600 with 1 Axes>"
            ],
            "image/png": "[encoded data removed]"
          },
          "metadata": {}
        }
      ]
    },
    {
      "cell_type": "code",
      "source": [
        "# Function to add two numbers using Prolog\n",
        "def prolog_greater_than(x, y):\n",
        "    result = list(prolog.query(f\"greater_than({x}, {y})\"))\n",
        "    return result[0] if result else None\n",
        "\n",
        "# Keeping the first variable constant and incrementing the second variable\n",
        "constant_var = \"1\"  # Keeping the first variable as 0\n",
        "scaling_results = []\n",
        "num_trials = 50  # Number of trials for averaging\n",
        "\n",
        "for i in range(0, 500, 10):  # Test for the first 30 natural numbers\n",
        "    incremented_var = \"s(\" * i + \"0\" + \")\" * i  # Incrementing the second variable\n",
        "    total_time = 0\n",
        "\n",
        "    for _ in range(num_trials):\n",
        "        start_time = time.time()\n",
        "        result = prolog_greater_than(constant_var, incremented_var)\n",
        "        end_time = time.time()\n",
        "        total_time += end_time - start_time\n",
        "\n",
        "    average_time = total_time / num_trials\n",
        "    scaling_results.append((i, average_time))\n",
        "\n",
        "# Extract data for plotting\n",
        "x_values = [result[0] for result in scaling_results]\n",
        "y_values = [result[1] for result in scaling_results]\n",
        "\n",
        "# Plotting the graph\n",
        "plt.figure(figsize=(10, 6))\n",
        "plt.plot(x_values, y_values, marker='o')\n",
        "plt.title(\"Scaling of Prolog Greater Than Function (Averaged over Multiple Trials)\")\n",
        "plt.xlabel(\"Incremented Variable (s*n(0))\")\n",
        "plt.ylabel(\"Average Time Taken (seconds)\")\n",
        "plt.grid(True)\n",
        "plt.show()"
      ],
      "metadata": {
        "colab": {
          "base_uri": "https://localhost:8080/",
          "height": 564
        },
        "id": "LfmqL1GvguBk",
        "outputId": "51761fdf-c551-4a4d-d12f-0459fa3b672e"
      },
      "execution_count": null,
      "outputs": [
        {
          "output_type": "display_data",
          "data": {
            "text/plain": [
              "<Figure size 1000x600 with 1 Axes>"
            ],
            "image/png": "[encoded data removed]"
          },
          "metadata": {}
        }
      ]
    }
  ],
  "metadata": {
    "colab": {
      "provenance": []
    },
    "kernelspec": {
      "display_name": "Python 3",
      "name": "python3"
    },
    "language_info": {
      "name": "python"
    },
    "widgets": {
      "application/vnd.jupyter.widget-state+json": {
        "1f026fcdf1dd4dbf9584339525221309": {
          "model_module": "@jupyter-widgets/controls",
          "model_name": "VBoxModel",
          "model_module_version": "1.5.0",
          "state": {
            "_dom_classes": [],
            "_model_module": "@jupyter-widgets/controls",
            "_model_module_version": "1.5.0",
            "_model_name": "VBoxModel",
            "_view_count": null,
            "_view_module": "@jupyter-widgets/controls",
            "_view_module_version": "1.5.0",
            "_view_name": "VBoxView",
            "box_style": "",
            "children": [
              "IPY_MODEL_629fa617d4794ee1886ca784f639a78d",
              "IPY_MODEL_eb9193f351d841b6a1f8bb27986ff3e9",
              "IPY_MODEL_3af485b3f99c4d038f449f81bebf4fe1",
              "IPY_MODEL_ef692a3bcc2d41d1915ae487376467bc",
              "IPY_MODEL_d3e3b49e0a0e4ef888c22d01e8122e33",
              "IPY_MODEL_1efac7bd611e480e9d32a25a1af44065",
              "IPY_MODEL_735f5a84c7794f819dd25623ef4ca8db",
              "IPY_MODEL_1389ece33adf4072be6706c90507e1c9"
            ],
            "layout": "IPY_MODEL_f744084f9c484f1688074290bdf9c14a"
          }
        },
        "629fa617d4794ee1886ca784f639a78d": {
          "model_module": "@jupyter-widgets/controls",
          "model_name": "TextModel",
          "model_module_version": "1.5.0",
          "state": {
            "_dom_classes": [],
            "_model_module": "@jupyter-widgets/controls",
            "_model_module_version": "1.5.0",
            "_model_name": "TextModel",
            "_view_count": null,
            "_view_module": "@jupyter-widgets/controls",
            "_view_module_version": "1.5.0",
            "_view_name": "TextView",
            "continuous_update": true,
            "description": "Input:",
            "description_tooltip": null,
            "disabled": false,
            "layout": "IPY_MODEL_7f0b1cf844224a0f877c7b0b1c27f68c",
            "placeholder": "​",
            "style": "IPY_MODEL_38bbc087e6fa45758bcd758d180bbc5c",
            "value": "8/2"
          }
        },
        "eb9193f351d841b6a1f8bb27986ff3e9": {
          "model_module": "@jupyter-widgets/controls",
          "model_name": "HBoxModel",
          "model_module_version": "1.5.0",
          "state": {
            "_dom_classes": [],
            "_model_module": "@jupyter-widgets/controls",
            "_model_module_version": "1.5.0",
            "_model_name": "HBoxModel",
            "_view_count": null,
            "_view_module": "@jupyter-widgets/controls",
            "_view_module_version": "1.5.0",
            "_view_name": "HBoxView",
            "box_style": "",
            "children": [
              "IPY_MODEL_e3b2729b87624956ba60b834e7e2193c",
              "IPY_MODEL_95eb90cb909047239dc76d32aa63b208",
              "IPY_MODEL_70841fd12bcc43bdafa6641f295d552b"
            ],
            "layout": "IPY_MODEL_9949fe847c7f42568a63f21c8f6ca8fd"
          }
        },
        "3af485b3f99c4d038f449f81bebf4fe1": {
          "model_module": "@jupyter-widgets/controls",
          "model_name": "HBoxModel",
          "model_module_version": "1.5.0",
          "state": {
            "_dom_classes": [],
            "_model_module": "@jupyter-widgets/controls",
            "_model_module_version": "1.5.0",
            "_model_name": "HBoxModel",
            "_view_count": null,
            "_view_module": "@jupyter-widgets/controls",
            "_view_module_version": "1.5.0",
            "_view_name": "HBoxView",
            "box_style": "",
            "children": [
              "IPY_MODEL_651006660898467abd096178fd6e4282",
              "IPY_MODEL_a315348ab9d54c1f8779606302f32bfd",
              "IPY_MODEL_39199e51e33446f1b9800305df7a63a2"
            ],
            "layout": "IPY_MODEL_6d734c5f253f4a389e635dec445b4ae5"
          }
        },
        "ef692a3bcc2d41d1915ae487376467bc": {
          "model_module": "@jupyter-widgets/controls",
          "model_name": "HBoxModel",
          "model_module_version": "1.5.0",
          "state": {
            "_dom_classes": [],
            "_model_module": "@jupyter-widgets/controls",
            "_model_module_version": "1.5.0",
            "_model_name": "HBoxModel",
            "_view_count": null,
            "_view_module": "@jupyter-widgets/controls",
            "_view_module_version": "1.5.0",
            "_view_name": "HBoxView",
            "box_style": "",
            "children": [
              "IPY_MODEL_bdb84f789c3c4d5b99cbd31c94e4ed52",
              "IPY_MODEL_396a88bb657c4d45a2539504e07d6d68",
              "IPY_MODEL_b4debe7a2d6a4060b78aaeb600de390a"
            ],
            "layout": "IPY_MODEL_0475e72af02a48a8a8e5dd35946a1e29"
          }
        },
        "d3e3b49e0a0e4ef888c22d01e8122e33": {
          "model_module": "@jupyter-widgets/controls",
          "model_name": "HBoxModel",
          "model_module_version": "1.5.0",
          "state": {
            "_dom_classes": [],
            "_model_module": "@jupyter-widgets/controls",
            "_model_module_version": "1.5.0",
            "_model_name": "HBoxModel",
            "_view_count": null,
            "_view_module": "@jupyter-widgets/controls",
            "_view_module_version": "1.5.0",
            "_view_name": "HBoxView",
            "box_style": "",
            "children": [
              "IPY_MODEL_505e136558494b1b86e35387aba6fed4"
            ],
            "layout": "IPY_MODEL_ae74bc8500c74440b0a299de104ff06d"
          }
        },
        "1efac7bd611e480e9d32a25a1af44065": {
          "model_module": "@jupyter-widgets/controls",
          "model_name": "HBoxModel",
          "model_module_version": "1.5.0",
          "state": {
            "_dom_classes": [],
            "_model_module": "@jupyter-widgets/controls",
            "_model_module_version": "1.5.0",
            "_model_name": "HBoxModel",
            "_view_count": null,
            "_view_module": "@jupyter-widgets/controls",
            "_view_module_version": "1.5.0",
            "_view_name": "HBoxView",
            "box_style": "",
            "children": [
              "IPY_MODEL_afcec26979ae4d93a04803c62d5e4be5",
              "IPY_MODEL_9dfca73a6eba4b19934e97b18eb6c747",
              "IPY_MODEL_3702ca41cf5c41f39b0c4a555feb25a0",
              "IPY_MODEL_0e36efdbcca1408eb9c03854aa35e1db",
              "IPY_MODEL_7f4f420185da4fea80ad237a24085d9a",
              "IPY_MODEL_1c2fce23d7de41efb62227947a0a9089",
              "IPY_MODEL_00ff717212cb422786c4129d7a14e11d",
              "IPY_MODEL_7f035fb1431747408d2bbec83ea2eb70",
              "IPY_MODEL_9885c20e069e40749f9c55d93e4b43e7",
              "IPY_MODEL_4b3d259cd5ca4d3696d6ae59a988c594",
              "IPY_MODEL_eaa3e919642c49debc55cf7d83f0c04f",
              "IPY_MODEL_d524d48996344aca92300f9f7fe0a58e",
              "IPY_MODEL_c78d5f239a3c427982197a3f698bf011",
              "IPY_MODEL_dd389b5e225c45f4a44c8def5c829d6b",
              "IPY_MODEL_d604c046c8c5410d9d9e4b89751babcc"
            ],
            "layout": "IPY_MODEL_965756a08fa04951a22868452ac03f65"
          }
        },
        "735f5a84c7794f819dd25623ef4ca8db": {
          "model_module": "@jupyter-widgets/controls",
          "model_name": "HBoxModel",
          "model_module_version": "1.5.0",
          "state": {
            "_dom_classes": [],
            "_model_module": "@jupyter-widgets/controls",
            "_model_module_version": "1.5.0",
            "_model_name": "HBoxModel",
            "_view_count": null,
            "_view_module": "@jupyter-widgets/controls",
            "_view_module_version": "1.5.0",
            "_view_name": "HBoxView",
            "box_style": "",
            "children": [
              "IPY_MODEL_b7784a8b89d24a61bd8e1e7bbc3f6a84",
              "IPY_MODEL_7d5b24b9155f4cb193ecc735408f604b",
              "IPY_MODEL_b6603e2c557f4731b71520dbdeb01578"
            ],
            "layout": "IPY_MODEL_18f3844de06240739d7033597b4b6d84"
          }
        },
        "1389ece33adf4072be6706c90507e1c9": {
          "model_module": "@jupyter-widgets/output",
          "model_name": "OutputModel",
          "model_module_version": "1.0.0",
          "state": {
            "_dom_classes": [],
            "_model_module": "@jupyter-widgets/output",
            "_model_module_version": "1.0.0",
            "_model_name": "OutputModel",
            "_view_count": null,
            "_view_module": "@jupyter-widgets/output",
            "_view_module_version": "1.0.0",
            "_view_name": "OutputView",
            "layout": "IPY_MODEL_38c096b1395f4c22818ab0ed07511c8b",
            "msg_id": "",
            "outputs": []
          }
        },
        "f744084f9c484f1688074290bdf9c14a": {
          "model_module": "@jupyter-widgets/base",
          "model_name": "LayoutModel",
          "model_module_version": "1.2.0",
          "state": {
            "_model_module": "@jupyter-widgets/base",
            "_model_module_version": "1.2.0",
            "_model_name": "LayoutModel",
            "_view_count": null,
            "_view_module": "@jupyter-widgets/base",
            "_view_module_version": "1.2.0",
            "_view_name": "LayoutView",
            "align_content": null,
            "align_items": null,
            "align_self": null,
            "border": null,
            "bottom": null,
            "display": null,
            "flex": null,
            "flex_flow": null,
            "grid_area": null,
            "grid_auto_columns": null,
            "grid_auto_flow": null,
            "grid_auto_rows": null,
            "grid_column": null,
            "grid_gap": null,
            "grid_row": null,
            "grid_template_areas": null,
            "grid_template_columns": null,
            "grid_template_rows": null,
            "height": null,
            "justify_content": null,
            "justify_items": null,
            "left": null,
            "margin": null,
            "max_height": null,
            "max_width": null,
            "min_height": null,
            "min_width": null,
            "object_fit": null,
            "object_position": null,
            "order": null,
            "overflow": null,
            "overflow_x": null,
            "overflow_y": null,
            "padding": null,
            "right": null,
            "top": null,
            "visibility": null,
            "width": null
          }
        },
        "7f0b1cf844224a0f877c7b0b1c27f68c": {
          "model_module": "@jupyter-widgets/base",
          "model_name": "LayoutModel",
          "model_module_version": "1.2.0",
          "state": {
            "_model_module": "@jupyter-widgets/base",
            "_model_module_version": "1.2.0",
            "_model_name": "LayoutModel",
            "_view_count": null,
            "_view_module": "@jupyter-widgets/base",
            "_view_module_version": "1.2.0",
            "_view_name": "LayoutView",
            "align_content": null,
            "align_items": null,
            "align_self": null,
            "border": null,
            "bottom": null,
            "display": null,
            "flex": null,
            "flex_flow": null,
            "grid_area": null,
            "grid_auto_columns": null,
            "grid_auto_flow": null,
            "grid_auto_rows": null,
            "grid_column": null,
            "grid_gap": null,
            "grid_row": null,
            "grid_template_areas": null,
            "grid_template_columns": null,
            "grid_template_rows": null,
            "height": null,
            "justify_content": null,
            "justify_items": null,
            "left": null,
            "margin": null,
            "max_height": null,
            "max_width": null,
            "min_height": null,
            "min_width": null,
            "object_fit": null,
            "object_position": null,
            "order": null,
            "overflow": null,
            "overflow_x": null,
            "overflow_y": null,
            "padding": null,
            "right": null,
            "top": null,
            "visibility": null,
            "width": null
          }
        },
        "38bbc087e6fa45758bcd758d180bbc5c": {
          "model_module": "@jupyter-widgets/controls",
          "model_name": "DescriptionStyleModel",
          "model_module_version": "1.5.0",
          "state": {
            "_model_module": "@jupyter-widgets/controls",
            "_model_module_version": "1.5.0",
            "_model_name": "DescriptionStyleModel",
            "_view_count": null,
            "_view_module": "@jupyter-widgets/base",
            "_view_module_version": "1.2.0",
            "_view_name": "StyleView",
            "description_width": "initial"
          }
        },
        "e3b2729b87624956ba60b834e7e2193c": {
          "model_module": "@jupyter-widgets/controls",
          "model_name": "ButtonModel",
          "model_module_version": "1.5.0",
          "state": {
            "_dom_classes": [],
            "_model_module": "@jupyter-widgets/controls",
            "_model_module_version": "1.5.0",
            "_model_name": "ButtonModel",
            "_view_count": null,
            "_view_module": "@jupyter-widgets/controls",
            "_view_module_version": "1.5.0",
            "_view_name": "ButtonView",
            "button_style": "info",
            "description": "0",
            "disabled": false,
            "icon": "",
            "layout": "IPY_MODEL_35a3b6d0e04449ad8d0821aa6110693d",
            "style": "IPY_MODEL_9244b2ad6a03487799bfe10bdbbb07e2",
            "tooltip": ""
          }
        },
        "95eb90cb909047239dc76d32aa63b208": {
          "model_module": "@jupyter-widgets/controls",
          "model_name": "ButtonModel",
          "model_module_version": "1.5.0",
          "state": {
            "_dom_classes": [],
            "_model_module": "@jupyter-widgets/controls",
            "_model_module_version": "1.5.0",
            "_model_name": "ButtonModel",
            "_view_count": null,
            "_view_module": "@jupyter-widgets/controls",
            "_view_module_version": "1.5.0",
            "_view_name": "ButtonView",
            "button_style": "info",
            "description": "1",
            "disabled": false,
            "icon": "",
            "layout": "IPY_MODEL_35a3b6d0e04449ad8d0821aa6110693d",
            "style": "IPY_MODEL_96539e52ebba4d54860d265740ddfaae",
            "tooltip": ""
          }
        },
        "70841fd12bcc43bdafa6641f295d552b": {
          "model_module": "@jupyter-widgets/controls",
          "model_name": "ButtonModel",
          "model_module_version": "1.5.0",
          "state": {
            "_dom_classes": [],
            "_model_module": "@jupyter-widgets/controls",
            "_model_module_version": "1.5.0",
            "_model_name": "ButtonModel",
            "_view_count": null,
            "_view_module": "@jupyter-widgets/controls",
            "_view_module_version": "1.5.0",
            "_view_name": "ButtonView",
            "button_style": "info",
            "description": "2",
            "disabled": false,
            "icon": "",
            "layout": "IPY_MODEL_35a3b6d0e04449ad8d0821aa6110693d",
            "style": "IPY_MODEL_423267141b21426d867495c6aabb753e",
            "tooltip": ""
          }
        },
        "9949fe847c7f42568a63f21c8f6ca8fd": {
          "model_module": "@jupyter-widgets/base",
          "model_name": "LayoutModel",
          "model_module_version": "1.2.0",
          "state": {
            "_model_module": "@jupyter-widgets/base",
            "_model_module_version": "1.2.0",
            "_model_name": "LayoutModel",
            "_view_count": null,
            "_view_module": "@jupyter-widgets/base",
            "_view_module_version": "1.2.0",
            "_view_name": "LayoutView",
            "align_content": null,
            "align_items": null,
            "align_self": null,
            "border": null,
            "bottom": null,
            "display": null,
            "flex": null,
            "flex_flow": null,
            "grid_area": null,
            "grid_auto_columns": null,
            "grid_auto_flow": null,
            "grid_auto_rows": null,
            "grid_column": null,
            "grid_gap": null,
            "grid_row": null,
            "grid_template_areas": null,
            "grid_template_columns": null,
            "grid_template_rows": null,
            "height": null,
            "justify_content": null,
            "justify_items": null,
            "left": null,
            "margin": null,
            "max_height": null,
            "max_width": null,
            "min_height": null,
            "min_width": null,
            "object_fit": null,
            "object_position": null,
            "order": null,
            "overflow": null,
            "overflow_x": null,
            "overflow_y": null,
            "padding": null,
            "right": null,
            "top": null,
            "visibility": null,
            "width": null
          }
        },
        "651006660898467abd096178fd6e4282": {
          "model_module": "@jupyter-widgets/controls",
          "model_name": "ButtonModel",
          "model_module_version": "1.5.0",
          "state": {
            "_dom_classes": [],
            "_model_module": "@jupyter-widgets/controls",
            "_model_module_version": "1.5.0",
            "_model_name": "ButtonModel",
            "_view_count": null,
            "_view_module": "@jupyter-widgets/controls",
            "_view_module_version": "1.5.0",
            "_view_name": "ButtonView",
            "button_style": "info",
            "description": "3",
            "disabled": false,
            "icon": "",
            "layout": "IPY_MODEL_35a3b6d0e04449ad8d0821aa6110693d",
            "style": "IPY_MODEL_f5346023ea0d481b809730c86793716d",
            "tooltip": ""
          }
        },
        "a315348ab9d54c1f8779606302f32bfd": {
          "model_module": "@jupyter-widgets/controls",
          "model_name": "ButtonModel",
          "model_module_version": "1.5.0",
          "state": {
            "_dom_classes": [],
            "_model_module": "@jupyter-widgets/controls",
            "_model_module_version": "1.5.0",
            "_model_name": "ButtonModel",
            "_view_count": null,
            "_view_module": "@jupyter-widgets/controls",
            "_view_module_version": "1.5.0",
            "_view_name": "ButtonView",
            "button_style": "info",
            "description": "4",
            "disabled": false,
            "icon": "",
            "layout": "IPY_MODEL_35a3b6d0e04449ad8d0821aa6110693d",
            "style": "IPY_MODEL_c995ef734d5c4e8cb3b8b6c96a9ee80d",
            "tooltip": ""
          }
        },
        "39199e51e33446f1b9800305df7a63a2": {
          "model_module": "@jupyter-widgets/controls",
          "model_name": "ButtonModel",
          "model_module_version": "1.5.0",
          "state": {
            "_dom_classes": [],
            "_model_module": "@jupyter-widgets/controls",
            "_model_module_version": "1.5.0",
            "_model_name": "ButtonModel",
            "_view_count": null,
            "_view_module": "@jupyter-widgets/controls",
            "_view_module_version": "1.5.0",
            "_view_name": "ButtonView",
            "button_style": "info",
            "description": "5",
            "disabled": false,
            "icon": "",
            "layout": "IPY_MODEL_35a3b6d0e04449ad8d0821aa6110693d",
            "style": "IPY_MODEL_16c2442a7e0a4dff831dd6af001cda53",
            "tooltip": ""
          }
        },
        "6d734c5f253f4a389e635dec445b4ae5": {
          "model_module": "@jupyter-widgets/base",
          "model_name": "LayoutModel",
          "model_module_version": "1.2.0",
          "state": {
            "_model_module": "@jupyter-widgets/base",
            "_model_module_version": "1.2.0",
            "_model_name": "LayoutModel",
            "_view_count": null,
            "_view_module": "@jupyter-widgets/base",
            "_view_module_version": "1.2.0",
            "_view_name": "LayoutView",
            "align_content": null,
            "align_items": null,
            "align_self": null,
            "border": null,
            "bottom": null,
            "display": null,
            "flex": null,
            "flex_flow": null,
            "grid_area": null,
            "grid_auto_columns": null,
            "grid_auto_flow": null,
            "grid_auto_rows": null,
            "grid_column": null,
            "grid_gap": null,
            "grid_row": null,
            "grid_template_areas": null,
            "grid_template_columns": null,
            "grid_template_rows": null,
            "height": null,
            "justify_content": null,
            "justify_items": null,
            "left": null,
            "margin": null,
            "max_height": null,
            "max_width": null,
            "min_height": null,
            "min_width": null,
            "object_fit": null,
            "object_position": null,
            "order": null,
            "overflow": null,
            "overflow_x": null,
            "overflow_y": null,
            "padding": null,
            "right": null,
            "top": null,
            "visibility": null,
            "width": null
          }
        },
        "bdb84f789c3c4d5b99cbd31c94e4ed52": {
          "model_module": "@jupyter-widgets/controls",
          "model_name": "ButtonModel",
          "model_module_version": "1.5.0",
          "state": {
            "_dom_classes": [],
            "_model_module": "@jupyter-widgets/controls",
            "_model_module_version": "1.5.0",
            "_model_name": "ButtonModel",
            "_view_count": null,
            "_view_module": "@jupyter-widgets/controls",
            "_view_module_version": "1.5.0",
            "_view_name": "ButtonView",
            "button_style": "info",
            "description": "6",
            "disabled": false,
            "icon": "",
            "layout": "IPY_MODEL_35a3b6d0e04449ad8d0821aa6110693d",
            "style": "IPY_MODEL_71956dfadb0d44d89a6f97de21152058",
            "tooltip": ""
          }
        },
        "396a88bb657c4d45a2539504e07d6d68": {
          "model_module": "@jupyter-widgets/controls",
          "model_name": "ButtonModel",
          "model_module_version": "1.5.0",
          "state": {
            "_dom_classes": [],
            "_model_module": "@jupyter-widgets/controls",
            "_model_module_version": "1.5.0",
            "_model_name": "ButtonModel",
            "_view_count": null,
            "_view_module": "@jupyter-widgets/controls",
            "_view_module_version": "1.5.0",
            "_view_name": "ButtonView",
            "button_style": "info",
            "description": "7",
            "disabled": false,
            "icon": "",
            "layout": "IPY_MODEL_35a3b6d0e04449ad8d0821aa6110693d",
            "style": "IPY_MODEL_e19cdf146bc4477b94d30fe5ce9e5563",
            "tooltip": ""
          }
        },
        "b4debe7a2d6a4060b78aaeb600de390a": {
          "model_module": "@jupyter-widgets/controls",
          "model_name": "ButtonModel",
          "model_module_version": "1.5.0",
          "state": {
            "_dom_classes": [],
            "_model_module": "@jupyter-widgets/controls",
            "_model_module_version": "1.5.0",
            "_model_name": "ButtonModel",
            "_view_count": null,
            "_view_module": "@jupyter-widgets/controls",
            "_view_module_version": "1.5.0",
            "_view_name": "ButtonView",
            "button_style": "info",
            "description": "8",
            "disabled": false,
            "icon": "",
            "layout": "IPY_MODEL_35a3b6d0e04449ad8d0821aa6110693d",
            "style": "IPY_MODEL_9204659f6c83489c86b3ce196f484c11",
            "tooltip": ""
          }
        },
        "0475e72af02a48a8a8e5dd35946a1e29": {
          "model_module": "@jupyter-widgets/base",
          "model_name": "LayoutModel",
          "model_module_version": "1.2.0",
          "state": {
            "_model_module": "@jupyter-widgets/base",
            "_model_module_version": "1.2.0",
            "_model_name": "LayoutModel",
            "_view_count": null,
            "_view_module": "@jupyter-widgets/base",
            "_view_module_version": "1.2.0",
            "_view_name": "LayoutView",
            "align_content": null,
            "align_items": null,
            "align_self": null,
            "border": null,
            "bottom": null,
            "display": null,
            "flex": null,
            "flex_flow": null,
            "grid_area": null,
            "grid_auto_columns": null,
            "grid_auto_flow": null,
            "grid_auto_rows": null,
            "grid_column": null,
            "grid_gap": null,
            "grid_row": null,
            "grid_template_areas": null,
            "grid_template_columns": null,
            "grid_template_rows": null,
            "height": null,
            "justify_content": null,
            "justify_items": null,
            "left": null,
            "margin": null,
            "max_height": null,
            "max_width": null,
            "min_height": null,
            "min_width": null,
            "object_fit": null,
            "object_position": null,
            "order": null,
            "overflow": null,
            "overflow_x": null,
            "overflow_y": null,
            "padding": null,
            "right": null,
            "top": null,
            "visibility": null,
            "width": null
          }
        },
        "505e136558494b1b86e35387aba6fed4": {
          "model_module": "@jupyter-widgets/controls",
          "model_name": "ButtonModel",
          "model_module_version": "1.5.0",
          "state": {
            "_dom_classes": [],
            "_model_module": "@jupyter-widgets/controls",
            "_model_module_version": "1.5.0",
            "_model_name": "ButtonModel",
            "_view_count": null,
            "_view_module": "@jupyter-widgets/controls",
            "_view_module_version": "1.5.0",
            "_view_name": "ButtonView",
            "button_style": "info",
            "description": "9",
            "disabled": false,
            "icon": "",
            "layout": "IPY_MODEL_35a3b6d0e04449ad8d0821aa6110693d",
            "style": "IPY_MODEL_9a46114d1b214d29a58bc39e3aa0c614",
            "tooltip": ""
          }
        },
        "ae74bc8500c74440b0a299de104ff06d": {
          "model_module": "@jupyter-widgets/base",
          "model_name": "LayoutModel",
          "model_module_version": "1.2.0",
          "state": {
            "_model_module": "@jupyter-widgets/base",
            "_model_module_version": "1.2.0",
            "_model_name": "LayoutModel",
            "_view_count": null,
            "_view_module": "@jupyter-widgets/base",
            "_view_module_version": "1.2.0",
            "_view_name": "LayoutView",
            "align_content": null,
            "align_items": null,
            "align_self": null,
            "border": null,
            "bottom": null,
            "display": null,
            "flex": null,
            "flex_flow": null,
            "grid_area": null,
            "grid_auto_columns": null,
            "grid_auto_flow": null,
            "grid_auto_rows": null,
            "grid_column": null,
            "grid_gap": null,
            "grid_row": null,
            "grid_template_areas": null,
            "grid_template_columns": null,
            "grid_template_rows": null,
            "height": null,
            "justify_content": null,
            "justify_items": null,
            "left": null,
            "margin": null,
            "max_height": null,
            "max_width": null,
            "min_height": null,
            "min_width": null,
            "object_fit": null,
            "object_position": null,
            "order": null,
            "overflow": null,
            "overflow_x": null,
            "overflow_y": null,
            "padding": null,
            "right": null,
            "top": null,
            "visibility": null,
            "width": null
          }
        },
        "afcec26979ae4d93a04803c62d5e4be5": {
          "model_module": "@jupyter-widgets/controls",
          "model_name": "ButtonModel",
          "model_module_version": "1.5.0",
          "state": {
            "_dom_classes": [],
            "_model_module": "@jupyter-widgets/controls",
            "_model_module_version": "1.5.0",
            "_model_name": "ButtonModel",
            "_view_count": null,
            "_view_module": "@jupyter-widgets/controls",
            "_view_module_version": "1.5.0",
            "_view_name": "ButtonView",
            "button_style": "info",
            "description": "+",
            "disabled": false,
            "icon": "",
            "layout": "IPY_MODEL_35a3b6d0e04449ad8d0821aa6110693d",
            "style": "IPY_MODEL_68ef476959cc43b1b27dc791c6d6fc25",
            "tooltip": ""
          }
        },
        "9dfca73a6eba4b19934e97b18eb6c747": {
          "model_module": "@jupyter-widgets/controls",
          "model_name": "ButtonModel",
          "model_module_version": "1.5.0",
          "state": {
            "_dom_classes": [],
            "_model_module": "@jupyter-widgets/controls",
            "_model_module_version": "1.5.0",
            "_model_name": "ButtonModel",
            "_view_count": null,
            "_view_module": "@jupyter-widgets/controls",
            "_view_module_version": "1.5.0",
            "_view_name": "ButtonView",
            "button_style": "info",
            "description": "-",
            "disabled": false,
            "icon": "",
            "layout": "IPY_MODEL_35a3b6d0e04449ad8d0821aa6110693d",
            "style": "IPY_MODEL_24bfb5d496f447818ec9ae23c501b5bb",
            "tooltip": ""
          }
        },
        "3702ca41cf5c41f39b0c4a555feb25a0": {
          "model_module": "@jupyter-widgets/controls",
          "model_name": "ButtonModel",
          "model_module_version": "1.5.0",
          "state": {
            "_dom_classes": [],
            "_model_module": "@jupyter-widgets/controls",
            "_model_module_version": "1.5.0",
            "_model_name": "ButtonModel",
            "_view_count": null,
            "_view_module": "@jupyter-widgets/controls",
            "_view_module_version": "1.5.0",
            "_view_name": "ButtonView",
            "button_style": "info",
            "description": "*",
            "disabled": false,
            "icon": "",
            "layout": "IPY_MODEL_35a3b6d0e04449ad8d0821aa6110693d",
            "style": "IPY_MODEL_2b2a2bcf706b45c08f127f005f8f3288",
            "tooltip": ""
          }
        },
        "0e36efdbcca1408eb9c03854aa35e1db": {
          "model_module": "@jupyter-widgets/controls",
          "model_name": "ButtonModel",
          "model_module_version": "1.5.0",
          "state": {
            "_dom_classes": [],
            "_model_module": "@jupyter-widgets/controls",
            "_model_module_version": "1.5.0",
            "_model_name": "ButtonModel",
            "_view_count": null,
            "_view_module": "@jupyter-widgets/controls",
            "_view_module_version": "1.5.0",
            "_view_name": "ButtonView",
            "button_style": "info",
            "description": "/",
            "disabled": false,
            "icon": "",
            "layout": "IPY_MODEL_35a3b6d0e04449ad8d0821aa6110693d",
            "style": "IPY_MODEL_a34b494283b6449ba305026e907159fa",
            "tooltip": ""
          }
        },
        "7f4f420185da4fea80ad237a24085d9a": {
          "model_module": "@jupyter-widgets/controls",
          "model_name": "ButtonModel",
          "model_module_version": "1.5.0",
          "state": {
            "_dom_classes": [],
            "_model_module": "@jupyter-widgets/controls",
            "_model_module_version": "1.5.0",
            "_model_name": "ButtonModel",
            "_view_count": null,
            "_view_module": "@jupyter-widgets/controls",
            "_view_module_version": "1.5.0",
            "_view_name": "ButtonView",
            "button_style": "info",
            "description": "%",
            "disabled": false,
            "icon": "",
            "layout": "IPY_MODEL_35a3b6d0e04449ad8d0821aa6110693d",
            "style": "IPY_MODEL_ff90fb5c0c574966b544ef1c42780cf6",
            "tooltip": ""
          }
        },
        "1c2fce23d7de41efb62227947a0a9089": {
          "model_module": "@jupyter-widgets/controls",
          "model_name": "ButtonModel",
          "model_module_version": "1.5.0",
          "state": {
            "_dom_classes": [],
            "_model_module": "@jupyter-widgets/controls",
            "_model_module_version": "1.5.0",
            "_model_name": "ButtonModel",
            "_view_count": null,
            "_view_module": "@jupyter-widgets/controls",
            "_view_module_version": "1.5.0",
            "_view_name": "ButtonView",
            "button_style": "info",
            "description": "!",
            "disabled": false,
            "icon": "",
            "layout": "IPY_MODEL_35a3b6d0e04449ad8d0821aa6110693d",
            "style": "IPY_MODEL_25e0a23a491644918f542beb82212f8b",
            "tooltip": ""
          }
        },
        "00ff717212cb422786c4129d7a14e11d": {
          "model_module": "@jupyter-widgets/controls",
          "model_name": "ButtonModel",
          "model_module_version": "1.5.0",
          "state": {
            "_dom_classes": [],
            "_model_module": "@jupyter-widgets/controls",
            "_model_module_version": "1.5.0",
            "_model_name": "ButtonModel",
            "_view_count": null,
            "_view_module": "@jupyter-widgets/controls",
            "_view_module_version": "1.5.0",
            "_view_name": "ButtonView",
            "button_style": "info",
            "description": "^",
            "disabled": false,
            "icon": "",
            "layout": "IPY_MODEL_35a3b6d0e04449ad8d0821aa6110693d",
            "style": "IPY_MODEL_a9c868bd036c4b0a925ae7a91181e5c6",
            "tooltip": ""
          }
        },
        "7f035fb1431747408d2bbec83ea2eb70": {
          "model_module": "@jupyter-widgets/controls",
          "model_name": "ButtonModel",
          "model_module_version": "1.5.0",
          "state": {
            "_dom_classes": [],
            "_model_module": "@jupyter-widgets/controls",
            "_model_module_version": "1.5.0",
            "_model_name": "ButtonModel",
            "_view_count": null,
            "_view_module": "@jupyter-widgets/controls",
            "_view_module_version": "1.5.0",
            "_view_name": "ButtonView",
            "button_style": "info",
            "description": "√",
            "disabled": false,
            "icon": "",
            "layout": "IPY_MODEL_35a3b6d0e04449ad8d0821aa6110693d",
            "style": "IPY_MODEL_62c40a5c8f6240cb857afec98fb66dc9",
            "tooltip": ""
          }
        },
        "9885c20e069e40749f9c55d93e4b43e7": {
          "model_module": "@jupyter-widgets/controls",
          "model_name": "ButtonModel",
          "model_module_version": "1.5.0",
          "state": {
            "_dom_classes": [],
            "_model_module": "@jupyter-widgets/controls",
            "_model_module_version": "1.5.0",
            "_model_name": "ButtonModel",
            "_view_count": null,
            "_view_module": "@jupyter-widgets/controls",
            "_view_module_version": "1.5.0",
            "_view_name": "ButtonView",
            "button_style": "info",
            "description": "(",
            "disabled": false,
            "icon": "",
            "layout": "IPY_MODEL_35a3b6d0e04449ad8d0821aa6110693d",
            "style": "IPY_MODEL_de5a6aa63250414ca1aab0d09f00a77e",
            "tooltip": ""
          }
        },
        "4b3d259cd5ca4d3696d6ae59a988c594": {
          "model_module": "@jupyter-widgets/controls",
          "model_name": "ButtonModel",
          "model_module_version": "1.5.0",
          "state": {
            "_dom_classes": [],
            "_model_module": "@jupyter-widgets/controls",
            "_model_module_version": "1.5.0",
            "_model_name": "ButtonModel",
            "_view_count": null,
            "_view_module": "@jupyter-widgets/controls",
            "_view_module_version": "1.5.0",
            "_view_name": "ButtonView",
            "button_style": "info",
            "description": ")",
            "disabled": false,
            "icon": "",
            "layout": "IPY_MODEL_35a3b6d0e04449ad8d0821aa6110693d",
            "style": "IPY_MODEL_b5eaea617f20477c9d987decc1011a93",
            "tooltip": ""
          }
        },
        "eaa3e919642c49debc55cf7d83f0c04f": {
          "model_module": "@jupyter-widgets/controls",
          "model_name": "ButtonModel",
          "model_module_version": "1.5.0",
          "state": {
            "_dom_classes": [],
            "_model_module": "@jupyter-widgets/controls",
            "_model_module_version": "1.5.0",
            "_model_name": "ButtonModel",
            "_view_count": null,
            "_view_module": "@jupyter-widgets/controls",
            "_view_module_version": "1.5.0",
            "_view_name": "ButtonView",
            "button_style": "info",
            "description": "Prime?",
            "disabled": false,
            "icon": "",
            "layout": "IPY_MODEL_35a3b6d0e04449ad8d0821aa6110693d",
            "style": "IPY_MODEL_385907e2f1634aaa9a2b1cfc9a1cffbf",
            "tooltip": ""
          }
        },
        "d524d48996344aca92300f9f7fe0a58e": {
          "model_module": "@jupyter-widgets/controls",
          "model_name": "ButtonModel",
          "model_module_version": "1.5.0",
          "state": {
            "_dom_classes": [],
            "_model_module": "@jupyter-widgets/controls",
            "_model_module_version": "1.5.0",
            "_model_name": "ButtonModel",
            "_view_count": null,
            "_view_module": "@jupyter-widgets/controls",
            "_view_module_version": "1.5.0",
            "_view_name": "ButtonView",
            "button_style": "info",
            "description": ":",
            "disabled": false,
            "icon": "",
            "layout": "IPY_MODEL_35a3b6d0e04449ad8d0821aa6110693d",
            "style": "IPY_MODEL_592853ecc54a4dec8b1242a4421844d7",
            "tooltip": ""
          }
        },
        "c78d5f239a3c427982197a3f698bf011": {
          "model_module": "@jupyter-widgets/controls",
          "model_name": "ButtonModel",
          "model_module_version": "1.5.0",
          "state": {
            "_dom_classes": [],
            "_model_module": "@jupyter-widgets/controls",
            "_model_module_version": "1.5.0",
            "_model_name": "ButtonModel",
            "_view_count": null,
            "_view_module": "@jupyter-widgets/controls",
            "_view_module_version": "1.5.0",
            "_view_name": "ButtonView",
            "button_style": "info",
            "description": ">",
            "disabled": false,
            "icon": "",
            "layout": "IPY_MODEL_35a3b6d0e04449ad8d0821aa6110693d",
            "style": "IPY_MODEL_f25891345a98401ea9e93cf0f4d9ebba",
            "tooltip": ""
          }
        },
        "dd389b5e225c45f4a44c8def5c829d6b": {
          "model_module": "@jupyter-widgets/controls",
          "model_name": "ButtonModel",
          "model_module_version": "1.5.0",
          "state": {
            "_dom_classes": [],
            "_model_module": "@jupyter-widgets/controls",
            "_model_module_version": "1.5.0",
            "_model_name": "ButtonModel",
            "_view_count": null,
            "_view_module": "@jupyter-widgets/controls",
            "_view_module_version": "1.5.0",
            "_view_name": "ButtonView",
            "button_style": "info",
            "description": "<",
            "disabled": false,
            "icon": "",
            "layout": "IPY_MODEL_35a3b6d0e04449ad8d0821aa6110693d",
            "style": "IPY_MODEL_97aa2de85d8b477db40f60cc07968fe9",
            "tooltip": ""
          }
        },
        "d604c046c8c5410d9d9e4b89751babcc": {
          "model_module": "@jupyter-widgets/controls",
          "model_name": "ButtonModel",
          "model_module_version": "1.5.0",
          "state": {
            "_dom_classes": [],
            "_model_module": "@jupyter-widgets/controls",
            "_model_module_version": "1.5.0",
            "_model_name": "ButtonModel",
            "_view_count": null,
            "_view_module": "@jupyter-widgets/controls",
            "_view_module_version": "1.5.0",
            "_view_name": "ButtonView",
            "button_style": "info",
            "description": "==",
            "disabled": false,
            "icon": "",
            "layout": "IPY_MODEL_35a3b6d0e04449ad8d0821aa6110693d",
            "style": "IPY_MODEL_51d682c425ee419099b00cf9e161cd73",
            "tooltip": ""
          }
        },
        "965756a08fa04951a22868452ac03f65": {
          "model_module": "@jupyter-widgets/base",
          "model_name": "LayoutModel",
          "model_module_version": "1.2.0",
          "state": {
            "_model_module": "@jupyter-widgets/base",
            "_model_module_version": "1.2.0",
            "_model_name": "LayoutModel",
            "_view_count": null,
            "_view_module": "@jupyter-widgets/base",
            "_view_module_version": "1.2.0",
            "_view_name": "LayoutView",
            "align_content": null,
            "align_items": null,
            "align_self": null,
            "border": null,
            "bottom": null,
            "display": null,
            "flex": null,
            "flex_flow": null,
            "grid_area": null,
            "grid_auto_columns": null,
            "grid_auto_flow": null,
            "grid_auto_rows": null,
            "grid_column": null,
            "grid_gap": null,
            "grid_row": null,
            "grid_template_areas": null,
            "grid_template_columns": null,
            "grid_template_rows": null,
            "height": null,
            "justify_content": null,
            "justify_items": null,
            "left": null,
            "margin": null,
            "max_height": null,
            "max_width": null,
            "min_height": null,
            "min_width": null,
            "object_fit": null,
            "object_position": null,
            "order": null,
            "overflow": null,
            "overflow_x": null,
            "overflow_y": null,
            "padding": null,
            "right": null,
            "top": null,
            "visibility": null,
            "width": null
          }
        },
        "b7784a8b89d24a61bd8e1e7bbc3f6a84": {
          "model_module": "@jupyter-widgets/controls",
          "model_name": "ButtonModel",
          "model_module_version": "1.5.0",
          "state": {
            "_dom_classes": [],
            "_model_module": "@jupyter-widgets/controls",
            "_model_module_version": "1.5.0",
            "_model_name": "ButtonModel",
            "_view_count": null,
            "_view_module": "@jupyter-widgets/controls",
            "_view_module_version": "1.5.0",
            "_view_name": "ButtonView",
            "button_style": "danger",
            "description": "Clear",
            "disabled": false,
            "icon": "",
            "layout": "IPY_MODEL_35a3b6d0e04449ad8d0821aa6110693d",
            "style": "IPY_MODEL_0aad0e0aee1f4b55995f52e8e31fe253",
            "tooltip": ""
          }
        },
        "7d5b24b9155f4cb193ecc735408f604b": {
          "model_module": "@jupyter-widgets/controls",
          "model_name": "ButtonModel",
          "model_module_version": "1.5.0",
          "state": {
            "_dom_classes": [],
            "_model_module": "@jupyter-widgets/controls",
            "_model_module_version": "1.5.0",
            "_model_name": "ButtonModel",
            "_view_count": null,
            "_view_module": "@jupyter-widgets/controls",
            "_view_module_version": "1.5.0",
            "_view_name": "ButtonView",
            "button_style": "warning",
            "description": "Backspace",
            "disabled": false,
            "icon": "",
            "layout": "IPY_MODEL_35a3b6d0e04449ad8d0821aa6110693d",
            "style": "IPY_MODEL_06320c155d1147bdb99d55ae41063080",
            "tooltip": ""
          }
        },
        "b6603e2c557f4731b71520dbdeb01578": {
          "model_module": "@jupyter-widgets/controls",
          "model_name": "ButtonModel",
          "model_module_version": "1.5.0",
          "state": {
            "_dom_classes": [],
            "_model_module": "@jupyter-widgets/controls",
            "_model_module_version": "1.5.0",
            "_model_name": "ButtonModel",
            "_view_count": null,
            "_view_module": "@jupyter-widgets/controls",
            "_view_module_version": "1.5.0",
            "_view_name": "ButtonView",
            "button_style": "success",
            "description": "Calculate",
            "disabled": false,
            "icon": "",
            "layout": "IPY_MODEL_35a3b6d0e04449ad8d0821aa6110693d",
            "style": "IPY_MODEL_189d4d82979b4f899a7ca0a2398a076e",
            "tooltip": ""
          }
        },
        "18f3844de06240739d7033597b4b6d84": {
          "model_module": "@jupyter-widgets/base",
          "model_name": "LayoutModel",
          "model_module_version": "1.2.0",
          "state": {
            "_model_module": "@jupyter-widgets/base",
            "_model_module_version": "1.2.0",
            "_model_name": "LayoutModel",
            "_view_count": null,
            "_view_module": "@jupyter-widgets/base",
            "_view_module_version": "1.2.0",
            "_view_name": "LayoutView",
            "align_content": null,
            "align_items": null,
            "align_self": null,
            "border": null,
            "bottom": null,
            "display": null,
            "flex": null,
            "flex_flow": null,
            "grid_area": null,
            "grid_auto_columns": null,
            "grid_auto_flow": null,
            "grid_auto_rows": null,
            "grid_column": null,
            "grid_gap": null,
            "grid_row": null,
            "grid_template_areas": null,
            "grid_template_columns": null,
            "grid_template_rows": null,
            "height": null,
            "justify_content": null,
            "justify_items": null,
            "left": null,
            "margin": null,
            "max_height": null,
            "max_width": null,
            "min_height": null,
            "min_width": null,
            "object_fit": null,
            "object_position": null,
            "order": null,
            "overflow": null,
            "overflow_x": null,
            "overflow_y": null,
            "padding": null,
            "right": null,
            "top": null,
            "visibility": null,
            "width": null
          }
        },
        "35a3b6d0e04449ad8d0821aa6110693d": {
          "model_module": "@jupyter-widgets/base",
          "model_name": "LayoutModel",
          "model_module_version": "1.2.0",
          "state": {
            "_model_module": "@jupyter-widgets/base",
            "_model_module_version": "1.2.0",
            "_model_name": "LayoutModel",
            "_view_count": null,
            "_view_module": "@jupyter-widgets/base",
            "_view_module_version": "1.2.0",
            "_view_name": "LayoutView",
            "align_content": null,
            "align_items": null,
            "align_self": null,
            "border": null,
            "bottom": null,
            "display": null,
            "flex": null,
            "flex_flow": null,
            "grid_area": null,
            "grid_auto_columns": null,
            "grid_auto_flow": null,
            "grid_auto_rows": null,
            "grid_column": null,
            "grid_gap": null,
            "grid_row": null,
            "grid_template_areas": null,
            "grid_template_columns": null,
            "grid_template_rows": null,
            "height": "40px",
            "justify_content": null,
            "justify_items": null,
            "left": null,
            "margin": null,
            "max_height": null,
            "max_width": null,
            "min_height": null,
            "min_width": null,
            "object_fit": null,
            "object_position": null,
            "order": null,
            "overflow": null,
            "overflow_x": null,
            "overflow_y": null,
            "padding": null,
            "right": null,
            "top": null,
            "visibility": null,
            "width": "auto"
          }
        },
        "9244b2ad6a03487799bfe10bdbbb07e2": {
          "model_module": "@jupyter-widgets/controls",
          "model_name": "ButtonStyleModel",
          "model_module_version": "1.5.0",
          "state": {
            "_model_module": "@jupyter-widgets/controls",
            "_model_module_version": "1.5.0",
            "_model_name": "ButtonStyleModel",
            "_view_count": null,
            "_view_module": "@jupyter-widgets/base",
            "_view_module_version": "1.2.0",
            "_view_name": "StyleView",
            "button_color": null,
            "font_weight": ""
          }
        },
        "96539e52ebba4d54860d265740ddfaae": {
          "model_module": "@jupyter-widgets/controls",
          "model_name": "ButtonStyleModel",
          "model_module_version": "1.5.0",
          "state": {
            "_model_module": "@jupyter-widgets/controls",
            "_model_module_version": "1.5.0",
            "_model_name": "ButtonStyleModel",
            "_view_count": null,
            "_view_module": "@jupyter-widgets/base",
            "_view_module_version": "1.2.0",
            "_view_name": "StyleView",
            "button_color": null,
            "font_weight": ""
          }
        },
        "423267141b21426d867495c6aabb753e": {
          "model_module": "@jupyter-widgets/controls",
          "model_name": "ButtonStyleModel",
          "model_module_version": "1.5.0",
          "state": {
            "_model_module": "@jupyter-widgets/controls",
            "_model_module_version": "1.5.0",
            "_model_name": "ButtonStyleModel",
            "_view_count": null,
            "_view_module": "@jupyter-widgets/base",
            "_view_module_version": "1.2.0",
            "_view_name": "StyleView",
            "button_color": null,
            "font_weight": ""
          }
        },
        "f5346023ea0d481b809730c86793716d": {
          "model_module": "@jupyter-widgets/controls",
          "model_name": "ButtonStyleModel",
          "model_module_version": "1.5.0",
          "state": {
            "_model_module": "@jupyter-widgets/controls",
            "_model_module_version": "1.5.0",
            "_model_name": "ButtonStyleModel",
            "_view_count": null,
            "_view_module": "@jupyter-widgets/base",
            "_view_module_version": "1.2.0",
            "_view_name": "StyleView",
            "button_color": null,
            "font_weight": ""
          }
        },
        "c995ef734d5c4e8cb3b8b6c96a9ee80d": {
          "model_module": "@jupyter-widgets/controls",
          "model_name": "ButtonStyleModel",
          "model_module_version": "1.5.0",
          "state": {
            "_model_module": "@jupyter-widgets/controls",
            "_model_module_version": "1.5.0",
            "_model_name": "ButtonStyleModel",
            "_view_count": null,
            "_view_module": "@jupyter-widgets/base",
            "_view_module_version": "1.2.0",
            "_view_name": "StyleView",
            "button_color": null,
            "font_weight": ""
          }
        },
        "16c2442a7e0a4dff831dd6af001cda53": {
          "model_module": "@jupyter-widgets/controls",
          "model_name": "ButtonStyleModel",
          "model_module_version": "1.5.0",
          "state": {
            "_model_module": "@jupyter-widgets/controls",
            "_model_module_version": "1.5.0",
            "_model_name": "ButtonStyleModel",
            "_view_count": null,
            "_view_module": "@jupyter-widgets/base",
            "_view_module_version": "1.2.0",
            "_view_name": "StyleView",
            "button_color": null,
            "font_weight": ""
          }
        },
        "71956dfadb0d44d89a6f97de21152058": {
          "model_module": "@jupyter-widgets/controls",
          "model_name": "ButtonStyleModel",
          "model_module_version": "1.5.0",
          "state": {
            "_model_module": "@jupyter-widgets/controls",
            "_model_module_version": "1.5.0",
            "_model_name": "ButtonStyleModel",
            "_view_count": null,
            "_view_module": "@jupyter-widgets/base",
            "_view_module_version": "1.2.0",
            "_view_name": "StyleView",
            "button_color": null,
            "font_weight": ""
          }
        },
        "e19cdf146bc4477b94d30fe5ce9e5563": {
          "model_module": "@jupyter-widgets/controls",
          "model_name": "ButtonStyleModel",
          "model_module_version": "1.5.0",
          "state": {
            "_model_module": "@jupyter-widgets/controls",
            "_model_module_version": "1.5.0",
            "_model_name": "ButtonStyleModel",
            "_view_count": null,
            "_view_module": "@jupyter-widgets/base",
            "_view_module_version": "1.2.0",
            "_view_name": "StyleView",
            "button_color": null,
            "font_weight": ""
          }
        },
        "9204659f6c83489c86b3ce196f484c11": {
          "model_module": "@jupyter-widgets/controls",
          "model_name": "ButtonStyleModel",
          "model_module_version": "1.5.0",
          "state": {
            "_model_module": "@jupyter-widgets/controls",
            "_model_module_version": "1.5.0",
            "_model_name": "ButtonStyleModel",
            "_view_count": null,
            "_view_module": "@jupyter-widgets/base",
            "_view_module_version": "1.2.0",
            "_view_name": "StyleView",
            "button_color": null,
            "font_weight": ""
          }
        },
        "9a46114d1b214d29a58bc39e3aa0c614": {
          "model_module": "@jupyter-widgets/controls",
          "model_name": "ButtonStyleModel",
          "model_module_version": "1.5.0",
          "state": {
            "_model_module": "@jupyter-widgets/controls",
            "_model_module_version": "1.5.0",
            "_model_name": "ButtonStyleModel",
            "_view_count": null,
            "_view_module": "@jupyter-widgets/base",
            "_view_module_version": "1.2.0",
            "_view_name": "StyleView",
            "button_color": null,
            "font_weight": ""
          }
        },
        "68ef476959cc43b1b27dc791c6d6fc25": {
          "model_module": "@jupyter-widgets/controls",
          "model_name": "ButtonStyleModel",
          "model_module_version": "1.5.0",
          "state": {
            "_model_module": "@jupyter-widgets/controls",
            "_model_module_version": "1.5.0",
            "_model_name": "ButtonStyleModel",
            "_view_count": null,
            "_view_module": "@jupyter-widgets/base",
            "_view_module_version": "1.2.0",
            "_view_name": "StyleView",
            "button_color": null,
            "font_weight": ""
          }
        },
        "24bfb5d496f447818ec9ae23c501b5bb": {
          "model_module": "@jupyter-widgets/controls",
          "model_name": "ButtonStyleModel",
          "model_module_version": "1.5.0",
          "state": {
            "_model_module": "@jupyter-widgets/controls",
            "_model_module_version": "1.5.0",
            "_model_name": "ButtonStyleModel",
            "_view_count": null,
            "_view_module": "@jupyter-widgets/base",
            "_view_module_version": "1.2.0",
            "_view_name": "StyleView",
            "button_color": null,
            "font_weight": ""
          }
        },
        "2b2a2bcf706b45c08f127f005f8f3288": {
          "model_module": "@jupyter-widgets/controls",
          "model_name": "ButtonStyleModel",
          "model_module_version": "1.5.0",
          "state": {
            "_model_module": "@jupyter-widgets/controls",
            "_model_module_version": "1.5.0",
            "_model_name": "ButtonStyleModel",
            "_view_count": null,
            "_view_module": "@jupyter-widgets/base",
            "_view_module_version": "1.2.0",
            "_view_name": "StyleView",
            "button_color": null,
            "font_weight": ""
          }
        },
        "a34b494283b6449ba305026e907159fa": {
          "model_module": "@jupyter-widgets/controls",
          "model_name": "ButtonStyleModel",
          "model_module_version": "1.5.0",
          "state": {
            "_model_module": "@jupyter-widgets/controls",
            "_model_module_version": "1.5.0",
            "_model_name": "ButtonStyleModel",
            "_view_count": null,
            "_view_module": "@jupyter-widgets/base",
            "_view_module_version": "1.2.0",
            "_view_name": "StyleView",
            "button_color": null,
            "font_weight": ""
          }
        },
        "ff90fb5c0c574966b544ef1c42780cf6": {
          "model_module": "@jupyter-widgets/controls",
          "model_name": "ButtonStyleModel",
          "model_module_version": "1.5.0",
          "state": {
            "_model_module": "@jupyter-widgets/controls",
            "_model_module_version": "1.5.0",
            "_model_name": "ButtonStyleModel",
            "_view_count": null,
            "_view_module": "@jupyter-widgets/base",
            "_view_module_version": "1.2.0",
            "_view_name": "StyleView",
            "button_color": null,
            "font_weight": ""
          }
        },
        "25e0a23a491644918f542beb82212f8b": {
          "model_module": "@jupyter-widgets/controls",
          "model_name": "ButtonStyleModel",
          "model_module_version": "1.5.0",
          "state": {
            "_model_module": "@jupyter-widgets/controls",
            "_model_module_version": "1.5.0",
            "_model_name": "ButtonStyleModel",
            "_view_count": null,
            "_view_module": "@jupyter-widgets/base",
            "_view_module_version": "1.2.0",
            "_view_name": "StyleView",
            "button_color": null,
            "font_weight": ""
          }
        },
        "a9c868bd036c4b0a925ae7a91181e5c6": {
          "model_module": "@jupyter-widgets/controls",
          "model_name": "ButtonStyleModel",
          "model_module_version": "1.5.0",
          "state": {
            "_model_module": "@jupyter-widgets/controls",
            "_model_module_version": "1.5.0",
            "_model_name": "ButtonStyleModel",
            "_view_count": null,
            "_view_module": "@jupyter-widgets/base",
            "_view_module_version": "1.2.0",
            "_view_name": "StyleView",
            "button_color": null,
            "font_weight": ""
          }
        },
        "62c40a5c8f6240cb857afec98fb66dc9": {
          "model_module": "@jupyter-widgets/controls",
          "model_name": "ButtonStyleModel",
          "model_module_version": "1.5.0",
          "state": {
            "_model_module": "@jupyter-widgets/controls",
            "_model_module_version": "1.5.0",
            "_model_name": "ButtonStyleModel",
            "_view_count": null,
            "_view_module": "@jupyter-widgets/base",
            "_view_module_version": "1.2.0",
            "_view_name": "StyleView",
            "button_color": null,
            "font_weight": ""
          }
        },
        "de5a6aa63250414ca1aab0d09f00a77e": {
          "model_module": "@jupyter-widgets/controls",
          "model_name": "ButtonStyleModel",
          "model_module_version": "1.5.0",
          "state": {
            "_model_module": "@jupyter-widgets/controls",
            "_model_module_version": "1.5.0",
            "_model_name": "ButtonStyleModel",
            "_view_count": null,
            "_view_module": "@jupyter-widgets/base",
            "_view_module_version": "1.2.0",
            "_view_name": "StyleView",
            "button_color": null,
            "font_weight": ""
          }
        },
        "b5eaea617f20477c9d987decc1011a93": {
          "model_module": "@jupyter-widgets/controls",
          "model_name": "ButtonStyleModel",
          "model_module_version": "1.5.0",
          "state": {
            "_model_module": "@jupyter-widgets/controls",
            "_model_module_version": "1.5.0",
            "_model_name": "ButtonStyleModel",
            "_view_count": null,
            "_view_module": "@jupyter-widgets/base",
            "_view_module_version": "1.2.0",
            "_view_name": "StyleView",
            "button_color": null,
            "font_weight": ""
          }
        },
        "385907e2f1634aaa9a2b1cfc9a1cffbf": {
          "model_module": "@jupyter-widgets/controls",
          "model_name": "ButtonStyleModel",
          "model_module_version": "1.5.0",
          "state": {
            "_model_module": "@jupyter-widgets/controls",
            "_model_module_version": "1.5.0",
            "_model_name": "ButtonStyleModel",
            "_view_count": null,
            "_view_module": "@jupyter-widgets/base",
            "_view_module_version": "1.2.0",
            "_view_name": "StyleView",
            "button_color": null,
            "font_weight": ""
          }
        },
        "592853ecc54a4dec8b1242a4421844d7": {
          "model_module": "@jupyter-widgets/controls",
          "model_name": "ButtonStyleModel",
          "model_module_version": "1.5.0",
          "state": {
            "_model_module": "@jupyter-widgets/controls",
            "_model_module_version": "1.5.0",
            "_model_name": "ButtonStyleModel",
            "_view_count": null,
            "_view_module": "@jupyter-widgets/base",
            "_view_module_version": "1.2.0",
            "_view_name": "StyleView",
            "button_color": null,
            "font_weight": ""
          }
        },
        "f25891345a98401ea9e93cf0f4d9ebba": {
          "model_module": "@jupyter-widgets/controls",
          "model_name": "ButtonStyleModel",
          "model_module_version": "1.5.0",
          "state": {
            "_model_module": "@jupyter-widgets/controls",
            "_model_module_version": "1.5.0",
            "_model_name": "ButtonStyleModel",
            "_view_count": null,
            "_view_module": "@jupyter-widgets/base",
            "_view_module_version": "1.2.0",
            "_view_name": "StyleView",
            "button_color": null,
            "font_weight": ""
          }
        },
        "97aa2de85d8b477db40f60cc07968fe9": {
          "model_module": "@jupyter-widgets/controls",
          "model_name": "ButtonStyleModel",
          "model_module_version": "1.5.0",
          "state": {
            "_model_module": "@jupyter-widgets/controls",
            "_model_module_version": "1.5.0",
            "_model_name": "ButtonStyleModel",
            "_view_count": null,
            "_view_module": "@jupyter-widgets/base",
            "_view_module_version": "1.2.0",
            "_view_name": "StyleView",
            "button_color": null,
            "font_weight": ""
          }
        },
        "51d682c425ee419099b00cf9e161cd73": {
          "model_module": "@jupyter-widgets/controls",
          "model_name": "ButtonStyleModel",
          "model_module_version": "1.5.0",
          "state": {
            "_model_module": "@jupyter-widgets/controls",
            "_model_module_version": "1.5.0",
            "_model_name": "ButtonStyleModel",
            "_view_count": null,
            "_view_module": "@jupyter-widgets/base",
            "_view_module_version": "1.2.0",
            "_view_name": "StyleView",
            "button_color": null,
            "font_weight": ""
          }
        },
        "0aad0e0aee1f4b55995f52e8e31fe253": {
          "model_module": "@jupyter-widgets/controls",
          "model_name": "ButtonStyleModel",
          "model_module_version": "1.5.0",
          "state": {
            "_model_module": "@jupyter-widgets/controls",
            "_model_module_version": "1.5.0",
            "_model_name": "ButtonStyleModel",
            "_view_count": null,
            "_view_module": "@jupyter-widgets/base",
            "_view_module_version": "1.2.0",
            "_view_name": "StyleView",
            "button_color": null,
            "font_weight": ""
          }
        },
        "06320c155d1147bdb99d55ae41063080": {
          "model_module": "@jupyter-widgets/controls",
          "model_name": "ButtonStyleModel",
          "model_module_version": "1.5.0",
          "state": {
            "_model_module": "@jupyter-widgets/controls",
            "_model_module_version": "1.5.0",
            "_model_name": "ButtonStyleModel",
            "_view_count": null,
            "_view_module": "@jupyter-widgets/base",
            "_view_module_version": "1.2.0",
            "_view_name": "StyleView",
            "button_color": null,
            "font_weight": ""
          }
        },
        "189d4d82979b4f899a7ca0a2398a076e": {
          "model_module": "@jupyter-widgets/controls",
          "model_name": "ButtonStyleModel",
          "model_module_version": "1.5.0",
          "state": {
            "_model_module": "@jupyter-widgets/controls",
            "_model_module_version": "1.5.0",
            "_model_name": "ButtonStyleModel",
            "_view_count": null,
            "_view_module": "@jupyter-widgets/base",
            "_view_module_version": "1.2.0",
            "_view_name": "StyleView",
            "button_color": null,
            "font_weight": ""
          }
        },
        "38c096b1395f4c22818ab0ed07511c8b": {
          "model_module": "@jupyter-widgets/base",
          "model_name": "LayoutModel",
          "model_module_version": "1.2.0",
          "state": {
            "_model_module": "@jupyter-widgets/base",
            "_model_module_version": "1.2.0",
            "_model_name": "LayoutModel",
            "_view_count": null,
            "_view_module": "@jupyter-widgets/base",
            "_view_module_version": "1.2.0",
            "_view_name": "LayoutView",
            "align_content": null,
            "align_items": null,
            "align_self": null,
            "border": null,
            "bottom": null,
            "display": null,
            "flex": null,
            "flex_flow": null,
            "grid_area": null,
            "grid_auto_columns": null,
            "grid_auto_flow": null,
            "grid_auto_rows": null,
            "grid_column": null,
            "grid_gap": null,
            "grid_row": null,
            "grid_template_areas": null,
            "grid_template_columns": null,
            "grid_template_rows": null,
            "height": null,
            "justify_content": null,
            "justify_items": null,
            "left": null,
            "margin": null,
            "max_height": null,
            "max_width": null,
            "min_height": null,
            "min_width": null,
            "object_fit": null,
            "object_position": null,
            "order": null,
            "overflow": null,
            "overflow_x": null,
            "overflow_y": null,
            "padding": null,
            "right": null,
            "top": null,
            "visibility": null,
            "width": null
          }
        }
      }
    }
  },
  "nbformat": 4,
  "nbformat_minor": 0
}